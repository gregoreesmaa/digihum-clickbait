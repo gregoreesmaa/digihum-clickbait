{
 "nbformat": 4,
 "nbformat_minor": 0,
 "metadata": {
  "colab": {
   "provenance": [],
   "toc_visible": true,
   "mount_file_id": "1DwM6i4kQ6ut2HvqMZo2mSgvBz8w1yGA5",
   "authorship_tag": "ABX9TyOZSwX3YGc1H8Ovr0m8TscC"
  },
  "kernelspec": {
   "name": "python3",
   "display_name": "Python 3"
  },
  "language_info": {
   "name": "python"
  }
 },
 "cells": [
  {
   "cell_type": "markdown",
   "source": [
    "# Detecting Clickbaits"
   ],
   "metadata": {
    "id": "YKCqAwjvVxT7",
    "pycharm": {
     "name": "#%% md\n"
    }
   }
  },
  {
   "cell_type": "code",
   "source": [
    "!pip install estnltk==1.7.1\n",
    "!pip install lazypredict"
   ],
   "metadata": {
    "id": "Hku3aeytsYsZ",
    "pycharm": {
     "name": "#%%\n"
    }
   },
   "execution_count": null,
   "outputs": []
  },
  {
   "cell_type": "code",
   "execution_count": 2,
   "metadata": {
    "id": "zpDMlMY1SES2",
    "executionInfo": {
     "status": "ok",
     "timestamp": 1673689393575,
     "user_tz": -120,
     "elapsed": 5331,
     "user": {
      "displayName": "Lisanna Lehes",
      "userId": "09149713693688229558"
     }
    },
    "pycharm": {
     "name": "#%%\n"
    }
   },
   "outputs": [],
   "source": [
    "import pandas as pd\n",
    "import numpy as np\n",
    "import seaborn as sns\n",
    "import matplotlib.pyplot as plt\n",
    "from matplotlib import style\n",
    "\n",
    "from sklearn.feature_extraction.text import CountVectorizer\n",
    "from estnltk import Text\n",
    "import re\n",
    "import string\n",
    "\n",
    "import lazypredict\n",
    "from lazypredict.Supervised import LazyClassifier\n",
    "from sklearn.model_selection import train_test_split\n",
    "from sklearn.metrics import classification_report, confusion_matrix\n",
    "from scipy.stats import ttest_ind\n",
    "from scipy.stats import kstest\n",
    "import scipy.stats as st\n",
    "from sklearn.metrics import f1_score, accuracy_score\n",
    "from sklearn.linear_model import LogisticRegression\n",
    "from sklearn import metrics\n",
    "from sklearn.feature_selection import f_regression"
   ]
  },
  {
   "cell_type": "code",
   "source": [
    "df = pd.read_csv('data.csv') \n",
    "df"
   ],
   "metadata": {
    "colab": {
     "base_uri": "https://localhost:8080/",
     "height": 1000
    },
    "id": "jGYc4azHSZkV",
    "executionInfo": {
     "status": "ok",
     "timestamp": 1673689393981,
     "user_tz": -120,
     "elapsed": 412,
     "user": {
      "displayName": "Lisanna Lehes",
      "userId": "09149713693688229558"
     }
    },
    "outputId": "720904dc-6f85-4a13-8ac2-336865ec8a67",
    "pycharm": {
     "name": "#%%\n"
    }
   },
   "execution_count": 3,
   "outputs": [
    {
     "output_type": "execute_result",
     "data": {
      "text/plain": [
       "                                                                                                                           sentence  \\\n",
       "0     \"Taolist valu, kui oma lapse pärast, pole mina veel varem kogenud.\" Katrin Lust pidi vahetult enne jõule kutsuma koju kiirabi   \n",
       "1                              Isegi BBC-s | Selgus, kes oli see hulljulge eestlane, kes Tallinna vanalinnast suuskadel alla laskus   \n",
       "2                                                  Palju õnne! Jaagup Kreem ja tema abikaasa Kristiina tähistasid olulist tähtpäeva   \n",
       "3                                                                          Justin Bieber on ühe eriti suure ja tulusa tehingu lävel   \n",
       "4                                                                                                  Lahkus armastatud inglise laulja   \n",
       "...                                                                                                                             ...   \n",
       "1647                                                                             VIDEOD | Maailmameister Argentina jõudis kodumaale   \n",
       "1648                                                                        Koeru õpilased kasvatavad kooli nutikasvuhoones salatit   \n",
       "1649                                                                                            Jäised olud jätkuvad ka kolmapäeval   \n",
       "1650                                                             \"UV faktoris\" võtsid aasta kokku peatoimetajad ja üllatuskülalised   \n",
       "1651                                                             Läti uus valitsus pani paika järgnevate aastate rahanduspõhimõtted   \n",
       "\n",
       "                                                                                                                                                                                                                                     article_url  \\\n",
       "0     https://kroonika.delfi.ee/artikkel/120119046/taolist-valu-kui-oma-lapse-parast-pole-mina-veel-varem-kogenud-katrin-lust-pidi-vahetult-enne-joule-kutsuma-koju-kiirabi?fbclid=IwAR1CNp6XyzGl3DpPnNguTWj4oil9GmjrFDvz_fAjgK5xrWiyYVNxC16yRdk   \n",
       "1                                                                       https://sky.ee/selgus-kes-oli-see-hulljulge-eestlane-kes-tallinna-vanalinnast-suuskadel-alla-laskus?fbclid=IwAR3GO7Nae3VcaEhPDoxQudKg7s8MQiuIVXvP58JekswZa-bhaS034aC3VWE   \n",
       "2                                              https://kroonika.delfi.ee/artikkel/120117474/palju-onne-jaagup-kreem-ja-tema-abikaasa-kristiina-tahistasid-olulist-tahtpaeva?fbclid=IwAR2aQ1zuFm7XbNJiIDpWN3ZpcEJapoeNNaTOetp7JQg8Wd-lRhR2i0NC6FY   \n",
       "3                                                                                                      https://sky.ee/justin-bieber-uhe-eriti-suure-ja-tulusa-tehingu-lavel?fbclid=IwAR3ltZbN5zfXDdgMwPUfThai0Iq9lZ2AwJ3eadcdY8iOkJtf5o14zlNzGJ8   \n",
       "4                                                                                                     https://kultuur.postimees.ee/7674683/lahkus-armastatud-inglise-laulja?fbclid=IwAR0PAOkNCsQnIeaL95wc_BnUfWzcTQSOZ1J9W7iUaaeuijyPDksVO2or3NE   \n",
       "...                                                                                                                                                                                                                                          ...   \n",
       "1647                                                                                                                                                                                                             https://sport.err.ee/1608826138   \n",
       "1648                                                                                                                                                                                                               https://www.err.ee/1608826480   \n",
       "1649                                                                                                                                                                                                               https://www.err.ee/1608826489   \n",
       "1650                                                                                                                                                                                                               https://www.err.ee/1608826492   \n",
       "1651                                                                                                                                                                                                               https://www.err.ee/1608826486   \n",
       "\n",
       "      has_adjective  no_adjectives  has_verb  no_verbs  has_name  no_names  \\\n",
       "0                 1              3         1         2         1         2   \n",
       "1                 1              2         1         2         1         4   \n",
       "2                 1              1         1         2         1         5   \n",
       "3                 1              3         0         0         1         3   \n",
       "4                 1              2         1         2         0         0   \n",
       "...             ...            ...       ...       ...       ...       ...   \n",
       "1647              1              1         1         1         1         1   \n",
       "1648              0              0         1         1         1         1   \n",
       "1649              1              2         1         1         0         0   \n",
       "1650              0              0         1         1         0         0   \n",
       "1651              1              2         1         1         1         1   \n",
       "\n",
       "      no_words_starting_with_capslock  no_words_with_only_capslock  \\\n",
       "0                                   2                            0   \n",
       "1                                   4                            0   \n",
       "2                                   4                            0   \n",
       "3                                   2                            0   \n",
       "4                                   1                            0   \n",
       "...                               ...                          ...   \n",
       "1647                                3                            1   \n",
       "1648                                1                            0   \n",
       "1649                                1                            0   \n",
       "1650                                0                            1   \n",
       "1651                                1                            0   \n",
       "\n",
       "      has_exclamation_mark  has_question_mark  has_numbers  \\\n",
       "0                        0                  0            0   \n",
       "1                        0                  0            0   \n",
       "2                        1                  0            0   \n",
       "3                        0                  0            0   \n",
       "4                        0                  0            0   \n",
       "...                    ...                ...          ...   \n",
       "1647                     0                  0            0   \n",
       "1648                     0                  0            0   \n",
       "1649                     0                  0            0   \n",
       "1650                     0                  0            0   \n",
       "1651                     0                  0            0   \n",
       "\n",
       "      starts_with_number  no_words  no_characters  \\\n",
       "0                      0        20            101   \n",
       "1                      0        15             82   \n",
       "2                      0        11             69   \n",
       "3                      0        10             47   \n",
       "4                      0         4             29   \n",
       "...                  ...       ...            ...   \n",
       "1647                   0         6             44   \n",
       "1648                   0         6             50   \n",
       "1649                   0         5             31   \n",
       "1650                   0         8             57   \n",
       "1651                   0         8             59   \n",
       "\n",
       "      contains_gtp_reccomended_word  label  \n",
       "0                                 0      1  \n",
       "1                                 0      1  \n",
       "2                                 0      1  \n",
       "3                                 0      1  \n",
       "4                                 0      1  \n",
       "...                             ...    ...  \n",
       "1647                              0      0  \n",
       "1648                              0      0  \n",
       "1649                              0      0  \n",
       "1650                              0      0  \n",
       "1651                              0      0  \n",
       "\n",
       "[1652 rows x 18 columns]"
      ],
      "text/html": [
       "\n",
       "  <div id=\"df-36d88511-9ccb-4691-8c20-101879b6dfc4\">\n",
       "    <div class=\"colab-df-container\">\n",
       "      <div>\n",
       "<style scoped>\n",
       "    .dataframe tbody tr th:only-of-type {\n",
       "        vertical-align: middle;\n",
       "    }\n",
       "\n",
       "    .dataframe tbody tr th {\n",
       "        vertical-align: top;\n",
       "    }\n",
       "\n",
       "    .dataframe thead th {\n",
       "        text-align: right;\n",
       "    }\n",
       "</style>\n",
       "<table border=\"1\" class=\"dataframe\">\n",
       "  <thead>\n",
       "    <tr style=\"text-align: right;\">\n",
       "      <th></th>\n",
       "      <th>sentence</th>\n",
       "      <th>article_url</th>\n",
       "      <th>has_adjective</th>\n",
       "      <th>no_adjectives</th>\n",
       "      <th>has_verb</th>\n",
       "      <th>no_verbs</th>\n",
       "      <th>has_name</th>\n",
       "      <th>no_names</th>\n",
       "      <th>no_words_starting_with_capslock</th>\n",
       "      <th>no_words_with_only_capslock</th>\n",
       "      <th>has_exclamation_mark</th>\n",
       "      <th>has_question_mark</th>\n",
       "      <th>has_numbers</th>\n",
       "      <th>starts_with_number</th>\n",
       "      <th>no_words</th>\n",
       "      <th>no_characters</th>\n",
       "      <th>contains_gtp_reccomended_word</th>\n",
       "      <th>label</th>\n",
       "    </tr>\n",
       "  </thead>\n",
       "  <tbody>\n",
       "    <tr>\n",
       "      <th>0</th>\n",
       "      <td>\"Taolist valu, kui oma lapse pärast, pole mina veel varem kogenud.\" Katrin Lust pidi vahetult enne jõule kutsuma koju kiirabi</td>\n",
       "      <td>https://kroonika.delfi.ee/artikkel/120119046/taolist-valu-kui-oma-lapse-parast-pole-mina-veel-varem-kogenud-katrin-lust-pidi-vahetult-enne-joule-kutsuma-koju-kiirabi?fbclid=IwAR1CNp6XyzGl3DpPnNguTWj4oil9GmjrFDvz_fAjgK5xrWiyYVNxC16yRdk</td>\n",
       "      <td>1</td>\n",
       "      <td>3</td>\n",
       "      <td>1</td>\n",
       "      <td>2</td>\n",
       "      <td>1</td>\n",
       "      <td>2</td>\n",
       "      <td>2</td>\n",
       "      <td>0</td>\n",
       "      <td>0</td>\n",
       "      <td>0</td>\n",
       "      <td>0</td>\n",
       "      <td>0</td>\n",
       "      <td>20</td>\n",
       "      <td>101</td>\n",
       "      <td>0</td>\n",
       "      <td>1</td>\n",
       "    </tr>\n",
       "    <tr>\n",
       "      <th>1</th>\n",
       "      <td>Isegi BBC-s | Selgus, kes oli see hulljulge eestlane, kes Tallinna vanalinnast suuskadel alla laskus</td>\n",
       "      <td>https://sky.ee/selgus-kes-oli-see-hulljulge-eestlane-kes-tallinna-vanalinnast-suuskadel-alla-laskus?fbclid=IwAR3GO7Nae3VcaEhPDoxQudKg7s8MQiuIVXvP58JekswZa-bhaS034aC3VWE</td>\n",
       "      <td>1</td>\n",
       "      <td>2</td>\n",
       "      <td>1</td>\n",
       "      <td>2</td>\n",
       "      <td>1</td>\n",
       "      <td>4</td>\n",
       "      <td>4</td>\n",
       "      <td>0</td>\n",
       "      <td>0</td>\n",
       "      <td>0</td>\n",
       "      <td>0</td>\n",
       "      <td>0</td>\n",
       "      <td>15</td>\n",
       "      <td>82</td>\n",
       "      <td>0</td>\n",
       "      <td>1</td>\n",
       "    </tr>\n",
       "    <tr>\n",
       "      <th>2</th>\n",
       "      <td>Palju õnne! Jaagup Kreem ja tema abikaasa Kristiina tähistasid olulist tähtpäeva</td>\n",
       "      <td>https://kroonika.delfi.ee/artikkel/120117474/palju-onne-jaagup-kreem-ja-tema-abikaasa-kristiina-tahistasid-olulist-tahtpaeva?fbclid=IwAR2aQ1zuFm7XbNJiIDpWN3ZpcEJapoeNNaTOetp7JQg8Wd-lRhR2i0NC6FY</td>\n",
       "      <td>1</td>\n",
       "      <td>1</td>\n",
       "      <td>1</td>\n",
       "      <td>2</td>\n",
       "      <td>1</td>\n",
       "      <td>5</td>\n",
       "      <td>4</td>\n",
       "      <td>0</td>\n",
       "      <td>1</td>\n",
       "      <td>0</td>\n",
       "      <td>0</td>\n",
       "      <td>0</td>\n",
       "      <td>11</td>\n",
       "      <td>69</td>\n",
       "      <td>0</td>\n",
       "      <td>1</td>\n",
       "    </tr>\n",
       "    <tr>\n",
       "      <th>3</th>\n",
       "      <td>Justin Bieber on ühe eriti suure ja tulusa tehingu lävel</td>\n",
       "      <td>https://sky.ee/justin-bieber-uhe-eriti-suure-ja-tulusa-tehingu-lavel?fbclid=IwAR3ltZbN5zfXDdgMwPUfThai0Iq9lZ2AwJ3eadcdY8iOkJtf5o14zlNzGJ8</td>\n",
       "      <td>1</td>\n",
       "      <td>3</td>\n",
       "      <td>0</td>\n",
       "      <td>0</td>\n",
       "      <td>1</td>\n",
       "      <td>3</td>\n",
       "      <td>2</td>\n",
       "      <td>0</td>\n",
       "      <td>0</td>\n",
       "      <td>0</td>\n",
       "      <td>0</td>\n",
       "      <td>0</td>\n",
       "      <td>10</td>\n",
       "      <td>47</td>\n",
       "      <td>0</td>\n",
       "      <td>1</td>\n",
       "    </tr>\n",
       "    <tr>\n",
       "      <th>4</th>\n",
       "      <td>Lahkus armastatud inglise laulja</td>\n",
       "      <td>https://kultuur.postimees.ee/7674683/lahkus-armastatud-inglise-laulja?fbclid=IwAR0PAOkNCsQnIeaL95wc_BnUfWzcTQSOZ1J9W7iUaaeuijyPDksVO2or3NE</td>\n",
       "      <td>1</td>\n",
       "      <td>2</td>\n",
       "      <td>1</td>\n",
       "      <td>2</td>\n",
       "      <td>0</td>\n",
       "      <td>0</td>\n",
       "      <td>1</td>\n",
       "      <td>0</td>\n",
       "      <td>0</td>\n",
       "      <td>0</td>\n",
       "      <td>0</td>\n",
       "      <td>0</td>\n",
       "      <td>4</td>\n",
       "      <td>29</td>\n",
       "      <td>0</td>\n",
       "      <td>1</td>\n",
       "    </tr>\n",
       "    <tr>\n",
       "      <th>...</th>\n",
       "      <td>...</td>\n",
       "      <td>...</td>\n",
       "      <td>...</td>\n",
       "      <td>...</td>\n",
       "      <td>...</td>\n",
       "      <td>...</td>\n",
       "      <td>...</td>\n",
       "      <td>...</td>\n",
       "      <td>...</td>\n",
       "      <td>...</td>\n",
       "      <td>...</td>\n",
       "      <td>...</td>\n",
       "      <td>...</td>\n",
       "      <td>...</td>\n",
       "      <td>...</td>\n",
       "      <td>...</td>\n",
       "      <td>...</td>\n",
       "      <td>...</td>\n",
       "    </tr>\n",
       "    <tr>\n",
       "      <th>1647</th>\n",
       "      <td>VIDEOD | Maailmameister Argentina jõudis kodumaale</td>\n",
       "      <td>https://sport.err.ee/1608826138</td>\n",
       "      <td>1</td>\n",
       "      <td>1</td>\n",
       "      <td>1</td>\n",
       "      <td>1</td>\n",
       "      <td>1</td>\n",
       "      <td>1</td>\n",
       "      <td>3</td>\n",
       "      <td>1</td>\n",
       "      <td>0</td>\n",
       "      <td>0</td>\n",
       "      <td>0</td>\n",
       "      <td>0</td>\n",
       "      <td>6</td>\n",
       "      <td>44</td>\n",
       "      <td>0</td>\n",
       "      <td>0</td>\n",
       "    </tr>\n",
       "    <tr>\n",
       "      <th>1648</th>\n",
       "      <td>Koeru õpilased kasvatavad kooli nutikasvuhoones salatit</td>\n",
       "      <td>https://www.err.ee/1608826480</td>\n",
       "      <td>0</td>\n",
       "      <td>0</td>\n",
       "      <td>1</td>\n",
       "      <td>1</td>\n",
       "      <td>1</td>\n",
       "      <td>1</td>\n",
       "      <td>1</td>\n",
       "      <td>0</td>\n",
       "      <td>0</td>\n",
       "      <td>0</td>\n",
       "      <td>0</td>\n",
       "      <td>0</td>\n",
       "      <td>6</td>\n",
       "      <td>50</td>\n",
       "      <td>0</td>\n",
       "      <td>0</td>\n",
       "    </tr>\n",
       "    <tr>\n",
       "      <th>1649</th>\n",
       "      <td>Jäised olud jätkuvad ka kolmapäeval</td>\n",
       "      <td>https://www.err.ee/1608826489</td>\n",
       "      <td>1</td>\n",
       "      <td>2</td>\n",
       "      <td>1</td>\n",
       "      <td>1</td>\n",
       "      <td>0</td>\n",
       "      <td>0</td>\n",
       "      <td>1</td>\n",
       "      <td>0</td>\n",
       "      <td>0</td>\n",
       "      <td>0</td>\n",
       "      <td>0</td>\n",
       "      <td>0</td>\n",
       "      <td>5</td>\n",
       "      <td>31</td>\n",
       "      <td>0</td>\n",
       "      <td>0</td>\n",
       "    </tr>\n",
       "    <tr>\n",
       "      <th>1650</th>\n",
       "      <td>\"UV faktoris\" võtsid aasta kokku peatoimetajad ja üllatuskülalised</td>\n",
       "      <td>https://www.err.ee/1608826492</td>\n",
       "      <td>0</td>\n",
       "      <td>0</td>\n",
       "      <td>1</td>\n",
       "      <td>1</td>\n",
       "      <td>0</td>\n",
       "      <td>0</td>\n",
       "      <td>0</td>\n",
       "      <td>1</td>\n",
       "      <td>0</td>\n",
       "      <td>0</td>\n",
       "      <td>0</td>\n",
       "      <td>0</td>\n",
       "      <td>8</td>\n",
       "      <td>57</td>\n",
       "      <td>0</td>\n",
       "      <td>0</td>\n",
       "    </tr>\n",
       "    <tr>\n",
       "      <th>1651</th>\n",
       "      <td>Läti uus valitsus pani paika järgnevate aastate rahanduspõhimõtted</td>\n",
       "      <td>https://www.err.ee/1608826486</td>\n",
       "      <td>1</td>\n",
       "      <td>2</td>\n",
       "      <td>1</td>\n",
       "      <td>1</td>\n",
       "      <td>1</td>\n",
       "      <td>1</td>\n",
       "      <td>1</td>\n",
       "      <td>0</td>\n",
       "      <td>0</td>\n",
       "      <td>0</td>\n",
       "      <td>0</td>\n",
       "      <td>0</td>\n",
       "      <td>8</td>\n",
       "      <td>59</td>\n",
       "      <td>0</td>\n",
       "      <td>0</td>\n",
       "    </tr>\n",
       "  </tbody>\n",
       "</table>\n",
       "<p>1652 rows × 18 columns</p>\n",
       "</div>\n",
       "      <button class=\"colab-df-convert\" onclick=\"convertToInteractive('df-36d88511-9ccb-4691-8c20-101879b6dfc4')\"\n",
       "              title=\"Convert this dataframe to an interactive table.\"\n",
       "              style=\"display:none;\">\n",
       "        \n",
       "  <svg xmlns=\"http://www.w3.org/2000/svg\" height=\"24px\"viewBox=\"0 0 24 24\"\n",
       "       width=\"24px\">\n",
       "    <path d=\"M0 0h24v24H0V0z\" fill=\"none\"/>\n",
       "    <path d=\"M18.56 5.44l.94 2.06.94-2.06 2.06-.94-2.06-.94-.94-2.06-.94 2.06-2.06.94zm-11 1L8.5 8.5l.94-2.06 2.06-.94-2.06-.94L8.5 2.5l-.94 2.06-2.06.94zm10 10l.94 2.06.94-2.06 2.06-.94-2.06-.94-.94-2.06-.94 2.06-2.06.94z\"/><path d=\"M17.41 7.96l-1.37-1.37c-.4-.4-.92-.59-1.43-.59-.52 0-1.04.2-1.43.59L10.3 9.45l-7.72 7.72c-.78.78-.78 2.05 0 2.83L4 21.41c.39.39.9.59 1.41.59.51 0 1.02-.2 1.41-.59l7.78-7.78 2.81-2.81c.8-.78.8-2.07 0-2.86zM5.41 20L4 18.59l7.72-7.72 1.47 1.35L5.41 20z\"/>\n",
       "  </svg>\n",
       "      </button>\n",
       "      \n",
       "  <style>\n",
       "    .colab-df-container {\n",
       "      display:flex;\n",
       "      flex-wrap:wrap;\n",
       "      gap: 12px;\n",
       "    }\n",
       "\n",
       "    .colab-df-convert {\n",
       "      background-color: #E8F0FE;\n",
       "      border: none;\n",
       "      border-radius: 50%;\n",
       "      cursor: pointer;\n",
       "      display: none;\n",
       "      fill: #1967D2;\n",
       "      height: 32px;\n",
       "      padding: 0 0 0 0;\n",
       "      width: 32px;\n",
       "    }\n",
       "\n",
       "    .colab-df-convert:hover {\n",
       "      background-color: #E2EBFA;\n",
       "      box-shadow: 0px 1px 2px rgba(60, 64, 67, 0.3), 0px 1px 3px 1px rgba(60, 64, 67, 0.15);\n",
       "      fill: #174EA6;\n",
       "    }\n",
       "\n",
       "    [theme=dark] .colab-df-convert {\n",
       "      background-color: #3B4455;\n",
       "      fill: #D2E3FC;\n",
       "    }\n",
       "\n",
       "    [theme=dark] .colab-df-convert:hover {\n",
       "      background-color: #434B5C;\n",
       "      box-shadow: 0px 1px 3px 1px rgba(0, 0, 0, 0.15);\n",
       "      filter: drop-shadow(0px 1px 2px rgba(0, 0, 0, 0.3));\n",
       "      fill: #FFFFFF;\n",
       "    }\n",
       "  </style>\n",
       "\n",
       "      <script>\n",
       "        const buttonEl =\n",
       "          document.querySelector('#df-36d88511-9ccb-4691-8c20-101879b6dfc4 button.colab-df-convert');\n",
       "        buttonEl.style.display =\n",
       "          google.colab.kernel.accessAllowed ? 'block' : 'none';\n",
       "\n",
       "        async function convertToInteractive(key) {\n",
       "          const element = document.querySelector('#df-36d88511-9ccb-4691-8c20-101879b6dfc4');\n",
       "          const dataTable =\n",
       "            await google.colab.kernel.invokeFunction('convertToInteractive',\n",
       "                                                     [key], {});\n",
       "          if (!dataTable) return;\n",
       "\n",
       "          const docLinkHtml = 'Like what you see? Visit the ' +\n",
       "            '<a target=\"_blank\" href=https://colab.research.google.com/notebooks/data_table.ipynb>data table notebook</a>'\n",
       "            + ' to learn more about interactive tables.';\n",
       "          element.innerHTML = '';\n",
       "          dataTable['output_type'] = 'display_data';\n",
       "          await google.colab.output.renderOutput(dataTable, element);\n",
       "          const docLink = document.createElement('div');\n",
       "          docLink.innerHTML = docLinkHtml;\n",
       "          element.appendChild(docLink);\n",
       "        }\n",
       "      </script>\n",
       "    </div>\n",
       "  </div>\n",
       "  "
      ]
     },
     "metadata": {},
     "execution_count": 3
    }
   ]
  },
  {
   "cell_type": "code",
   "source": [
    "df.starts_with_number.unique()"
   ],
   "metadata": {
    "id": "XyaYV0m1bFZU",
    "colab": {
     "base_uri": "https://localhost:8080/"
    },
    "executionInfo": {
     "status": "ok",
     "timestamp": 1673689393982,
     "user_tz": -120,
     "elapsed": 12,
     "user": {
      "displayName": "Lisanna Lehes",
      "userId": "09149713693688229558"
     }
    },
    "outputId": "ded214ce-4003-42b6-fb88-9333dacd4b51",
    "pycharm": {
     "name": "#%%\n"
    }
   },
   "execution_count": 4,
   "outputs": [
    {
     "output_type": "execute_result",
     "data": {
      "text/plain": [
       "array([0])"
      ]
     },
     "metadata": {},
     "execution_count": 4
    }
   ]
  },
  {
   "cell_type": "markdown",
   "source": [
    "## Data Exploration"
   ],
   "metadata": {
    "id": "QmkTMfhAV45d",
    "pycharm": {
     "name": "#%% md\n"
    }
   }
  },
  {
   "cell_type": "markdown",
   "source": [
    "### Class frequency"
   ],
   "metadata": {
    "id": "ROcOayU6WSts",
    "pycharm": {
     "name": "#%% md\n"
    }
   }
  },
  {
   "cell_type": "code",
   "source": [
    "style.use('ggplot')\n",
    "sns.set_style('white')\n",
    "\n",
    "plt.figure(figsize=(9,7))\n",
    "fig=sns.countplot(df['label'], alpha =.80) \n",
    "#plt.title('Klõpsulõks vs mitte-klõpsulõks')\n",
    "plt.ylabel('n')\n",
    "plt.xlabel('Märgend')\n",
    "fig.set(xticklabels=['Mitte-klõpsulõks','Klõpsulõks'])\n",
    "plt.tight_layout()\n",
    "#plt.savefig('class_dist')\n",
    "plt.show()"
   ],
   "metadata": {
    "colab": {
     "base_uri": "https://localhost:8080/",
     "height": 513
    },
    "id": "Dt8mqm6ySZiT",
    "executionInfo": {
     "status": "ok",
     "timestamp": 1673689394309,
     "user_tz": -120,
     "elapsed": 333,
     "user": {
      "displayName": "Lisanna Lehes",
      "userId": "09149713693688229558"
     }
    },
    "outputId": "0bfdee04-b201-431a-e7d5-669280991338",
    "pycharm": {
     "name": "#%%\n"
    }
   },
   "execution_count": 5,
   "outputs": [
    {
     "output_type": "display_data",
     "data": {
      "text/plain": [
       "<Figure size 648x504 with 1 Axes>"
      ],
      "image/png": "[encoded data removed]"
     },
     "metadata": {}
    }
   ]
  },
  {
   "cell_type": "markdown",
   "source": [
    "### Number of words per headline type"
   ],
   "metadata": {
    "id": "V5yFUr0cW-R8",
    "pycharm": {
     "name": "#%% md\n"
    }
   }
  },
  {
   "cell_type": "code",
   "source": [
    "\n",
    "ax = sns.displot(df, x=\"no_words\", hue=\"label\", multiple=\"dodge\", legend = False)\n",
    "ax.fig.set_size_inches(9,8)\n",
    "ax.set(xlabel='Sõnade arv', ylabel='Artiklite arv')\n",
    "plt.legend(title='Label', labels=['Klõpsulõks', 'Mitte-klõpsulõks']) \n",
    "#plt.savefig('words_dist')\n",
    "plt.show()"
   ],
   "metadata": {
    "colab": {
     "base_uri": "https://localhost:8080/",
     "height": 552
    },
    "id": "V9Oan6WRXGCg",
    "executionInfo": {
     "status": "ok",
     "timestamp": 1673689395313,
     "user_tz": -120,
     "elapsed": 1012,
     "user": {
      "displayName": "Lisanna Lehes",
      "userId": "09149713693688229558"
     }
    },
    "outputId": "c5c143f8-c22a-4fe4-e1c9-9bc9b96821d7",
    "pycharm": {
     "name": "#%%\n"
    }
   },
   "execution_count": 6,
   "outputs": [
    {
     "output_type": "display_data",
     "data": {
      "text/plain": [
       "<Figure size 648x576 with 1 Axes>"
      ],
      "image/png": "[encoded data removed]"
     },
     "metadata": {}
    }
   ]
  },
  {
   "cell_type": "code",
   "source": [
    "pd.options.display.max_colwidth = 170\n",
    "df[['sentence', 'label']][df[\"no_words\"] > 19] "
   ],
   "metadata": {
    "colab": {
     "base_uri": "https://localhost:8080/",
     "height": 206
    },
    "id": "FIhxYrUwZatA",
    "executionInfo": {
     "status": "ok",
     "timestamp": 1673689395314,
     "user_tz": -120,
     "elapsed": 23,
     "user": {
      "displayName": "Lisanna Lehes",
      "userId": "09149713693688229558"
     }
    },
    "outputId": "93b86908-31fd-4f70-ae28-c79018ca9dea",
    "pycharm": {
     "name": "#%%\n"
    }
   },
   "execution_count": 7,
   "outputs": [
    {
     "output_type": "execute_result",
     "data": {
      "text/plain": [
       "                                                                                                                                                        sentence  \\\n",
       "0                                  \"Taolist valu, kui oma lapse pärast, pole mina veel varem kogenud.\" Katrin Lust pidi vahetult enne jõule kutsuma koju kiirabi   \n",
       "14   VIDEO | Hendrik Terrase jube õhtu Pärnus: kas ta oli suhtes Brigittega juba enne võtteid? Kas ta on maganud 250 naisega? Kuidas see poliitkarjäärile mõjub?   \n",
       "400                          Kas Kadri Simson põdes koroonaviiruse talvel läbi? Simson: mul oli kuiv köha, palavik ja nohu. Nii haige pole täiskasvanuna olnudki   \n",
       "412                               Kelle kaissu läks võiduööl Eesti ihaldatuim poissmees? Uku Suviste: saan tunda täpselt neid tunded, mis on minu sees ja siirad   \n",
       "495                    Tanel Padarit köidab laulmise kõrvalt ka üks väga põnev valdkond: kui ma ei oleks laulja, oleksin nähtavasti ammu juba sellele pühendunud   \n",
       "\n",
       "     label  \n",
       "0        1  \n",
       "14       1  \n",
       "400      1  \n",
       "412      1  \n",
       "495      1  "
      ],
      "text/html": [
       "\n",
       "  <div id=\"df-30020505-a2ef-43de-89ae-80cb09bec483\">\n",
       "    <div class=\"colab-df-container\">\n",
       "      <div>\n",
       "<style scoped>\n",
       "    .dataframe tbody tr th:only-of-type {\n",
       "        vertical-align: middle;\n",
       "    }\n",
       "\n",
       "    .dataframe tbody tr th {\n",
       "        vertical-align: top;\n",
       "    }\n",
       "\n",
       "    .dataframe thead th {\n",
       "        text-align: right;\n",
       "    }\n",
       "</style>\n",
       "<table border=\"1\" class=\"dataframe\">\n",
       "  <thead>\n",
       "    <tr style=\"text-align: right;\">\n",
       "      <th></th>\n",
       "      <th>sentence</th>\n",
       "      <th>label</th>\n",
       "    </tr>\n",
       "  </thead>\n",
       "  <tbody>\n",
       "    <tr>\n",
       "      <th>0</th>\n",
       "      <td>\"Taolist valu, kui oma lapse pärast, pole mina veel varem kogenud.\" Katrin Lust pidi vahetult enne jõule kutsuma koju kiirabi</td>\n",
       "      <td>1</td>\n",
       "    </tr>\n",
       "    <tr>\n",
       "      <th>14</th>\n",
       "      <td>VIDEO | Hendrik Terrase jube õhtu Pärnus: kas ta oli suhtes Brigittega juba enne võtteid? Kas ta on maganud 250 naisega? Kuidas see poliitkarjäärile mõjub?</td>\n",
       "      <td>1</td>\n",
       "    </tr>\n",
       "    <tr>\n",
       "      <th>400</th>\n",
       "      <td>Kas Kadri Simson põdes koroonaviiruse talvel läbi? Simson: mul oli kuiv köha, palavik ja nohu. Nii haige pole täiskasvanuna olnudki</td>\n",
       "      <td>1</td>\n",
       "    </tr>\n",
       "    <tr>\n",
       "      <th>412</th>\n",
       "      <td>Kelle kaissu läks võiduööl Eesti ihaldatuim poissmees? Uku Suviste: saan tunda täpselt neid tunded, mis on minu sees ja siirad</td>\n",
       "      <td>1</td>\n",
       "    </tr>\n",
       "    <tr>\n",
       "      <th>495</th>\n",
       "      <td>Tanel Padarit köidab laulmise kõrvalt ka üks väga põnev valdkond: kui ma ei oleks laulja, oleksin nähtavasti ammu juba sellele pühendunud</td>\n",
       "      <td>1</td>\n",
       "    </tr>\n",
       "  </tbody>\n",
       "</table>\n",
       "</div>\n",
       "      <button class=\"colab-df-convert\" onclick=\"convertToInteractive('df-30020505-a2ef-43de-89ae-80cb09bec483')\"\n",
       "              title=\"Convert this dataframe to an interactive table.\"\n",
       "              style=\"display:none;\">\n",
       "        \n",
       "  <svg xmlns=\"http://www.w3.org/2000/svg\" height=\"24px\"viewBox=\"0 0 24 24\"\n",
       "       width=\"24px\">\n",
       "    <path d=\"M0 0h24v24H0V0z\" fill=\"none\"/>\n",
       "    <path d=\"M18.56 5.44l.94 2.06.94-2.06 2.06-.94-2.06-.94-.94-2.06-.94 2.06-2.06.94zm-11 1L8.5 8.5l.94-2.06 2.06-.94-2.06-.94L8.5 2.5l-.94 2.06-2.06.94zm10 10l.94 2.06.94-2.06 2.06-.94-2.06-.94-.94-2.06-.94 2.06-2.06.94z\"/><path d=\"M17.41 7.96l-1.37-1.37c-.4-.4-.92-.59-1.43-.59-.52 0-1.04.2-1.43.59L10.3 9.45l-7.72 7.72c-.78.78-.78 2.05 0 2.83L4 21.41c.39.39.9.59 1.41.59.51 0 1.02-.2 1.41-.59l7.78-7.78 2.81-2.81c.8-.78.8-2.07 0-2.86zM5.41 20L4 18.59l7.72-7.72 1.47 1.35L5.41 20z\"/>\n",
       "  </svg>\n",
       "      </button>\n",
       "      \n",
       "  <style>\n",
       "    .colab-df-container {\n",
       "      display:flex;\n",
       "      flex-wrap:wrap;\n",
       "      gap: 12px;\n",
       "    }\n",
       "\n",
       "    .colab-df-convert {\n",
       "      background-color: #E8F0FE;\n",
       "      border: none;\n",
       "      border-radius: 50%;\n",
       "      cursor: pointer;\n",
       "      display: none;\n",
       "      fill: #1967D2;\n",
       "      height: 32px;\n",
       "      padding: 0 0 0 0;\n",
       "      width: 32px;\n",
       "    }\n",
       "\n",
       "    .colab-df-convert:hover {\n",
       "      background-color: #E2EBFA;\n",
       "      box-shadow: 0px 1px 2px rgba(60, 64, 67, 0.3), 0px 1px 3px 1px rgba(60, 64, 67, 0.15);\n",
       "      fill: #174EA6;\n",
       "    }\n",
       "\n",
       "    [theme=dark] .colab-df-convert {\n",
       "      background-color: #3B4455;\n",
       "      fill: #D2E3FC;\n",
       "    }\n",
       "\n",
       "    [theme=dark] .colab-df-convert:hover {\n",
       "      background-color: #434B5C;\n",
       "      box-shadow: 0px 1px 3px 1px rgba(0, 0, 0, 0.15);\n",
       "      filter: drop-shadow(0px 1px 2px rgba(0, 0, 0, 0.3));\n",
       "      fill: #FFFFFF;\n",
       "    }\n",
       "  </style>\n",
       "\n",
       "      <script>\n",
       "        const buttonEl =\n",
       "          document.querySelector('#df-30020505-a2ef-43de-89ae-80cb09bec483 button.colab-df-convert');\n",
       "        buttonEl.style.display =\n",
       "          google.colab.kernel.accessAllowed ? 'block' : 'none';\n",
       "\n",
       "        async function convertToInteractive(key) {\n",
       "          const element = document.querySelector('#df-30020505-a2ef-43de-89ae-80cb09bec483');\n",
       "          const dataTable =\n",
       "            await google.colab.kernel.invokeFunction('convertToInteractive',\n",
       "                                                     [key], {});\n",
       "          if (!dataTable) return;\n",
       "\n",
       "          const docLinkHtml = 'Like what you see? Visit the ' +\n",
       "            '<a target=\"_blank\" href=https://colab.research.google.com/notebooks/data_table.ipynb>data table notebook</a>'\n",
       "            + ' to learn more about interactive tables.';\n",
       "          element.innerHTML = '';\n",
       "          dataTable['output_type'] = 'display_data';\n",
       "          await google.colab.output.renderOutput(dataTable, element);\n",
       "          const docLink = document.createElement('div');\n",
       "          docLink.innerHTML = docLinkHtml;\n",
       "          element.appendChild(docLink);\n",
       "        }\n",
       "      </script>\n",
       "    </div>\n",
       "  </div>\n",
       "  "
      ]
     },
     "metadata": {},
     "execution_count": 7
    }
   ]
  },
  {
   "cell_type": "code",
   "source": [
    "df[['sentence', 'label']][df[\"no_words\"] < 5] "
   ],
   "metadata": {
    "colab": {
     "base_uri": "https://localhost:8080/",
     "height": 423
    },
    "id": "jd-bUS3dtWKe",
    "executionInfo": {
     "status": "ok",
     "timestamp": 1673689395761,
     "user_tz": -120,
     "elapsed": 464,
     "user": {
      "displayName": "Lisanna Lehes",
      "userId": "09149713693688229558"
     }
    },
    "outputId": "8ded3a31-6e13-4676-fcc5-8e655ae876f5",
    "pycharm": {
     "name": "#%%\n"
    }
   },
   "execution_count": 8,
   "outputs": [
    {
     "output_type": "execute_result",
     "data": {
      "text/plain": [
       "                                 sentence  label\n",
       "4        Lahkus armastatud inglise laulja      1\n",
       "7                    Kas tõesti tulnukad?      1\n",
       "21         Üllatav tegur tõstab vähiriski      1\n",
       "36                Tapal läks toit kõrbema      1\n",
       "179           Teatrivaataja lemmik on ...      1\n",
       "...                                   ...    ...\n",
       "1620          ERR-i teleuudised kell 9:00      0\n",
       "1622                Aeg-ajalt sajab vihma      0\n",
       "1625  Raadiouudised (21.12.2022 09:00:00)      0\n",
       "1630          ERR-i teleuudised kell 7:00      0\n",
       "1644         Aktuaalne kaamera kell 21:00      0\n",
       "\n",
       "[122 rows x 2 columns]"
      ],
      "text/html": [
       "\n",
       "  <div id=\"df-7755978c-496f-449b-ac09-e99d82d9cb05\">\n",
       "    <div class=\"colab-df-container\">\n",
       "      <div>\n",
       "<style scoped>\n",
       "    .dataframe tbody tr th:only-of-type {\n",
       "        vertical-align: middle;\n",
       "    }\n",
       "\n",
       "    .dataframe tbody tr th {\n",
       "        vertical-align: top;\n",
       "    }\n",
       "\n",
       "    .dataframe thead th {\n",
       "        text-align: right;\n",
       "    }\n",
       "</style>\n",
       "<table border=\"1\" class=\"dataframe\">\n",
       "  <thead>\n",
       "    <tr style=\"text-align: right;\">\n",
       "      <th></th>\n",
       "      <th>sentence</th>\n",
       "      <th>label</th>\n",
       "    </tr>\n",
       "  </thead>\n",
       "  <tbody>\n",
       "    <tr>\n",
       "      <th>4</th>\n",
       "      <td>Lahkus armastatud inglise laulja</td>\n",
       "      <td>1</td>\n",
       "    </tr>\n",
       "    <tr>\n",
       "      <th>7</th>\n",
       "      <td>Kas tõesti tulnukad?</td>\n",
       "      <td>1</td>\n",
       "    </tr>\n",
       "    <tr>\n",
       "      <th>21</th>\n",
       "      <td>Üllatav tegur tõstab vähiriski</td>\n",
       "      <td>1</td>\n",
       "    </tr>\n",
       "    <tr>\n",
       "      <th>36</th>\n",
       "      <td>Tapal läks toit kõrbema</td>\n",
       "      <td>1</td>\n",
       "    </tr>\n",
       "    <tr>\n",
       "      <th>179</th>\n",
       "      <td>Teatrivaataja lemmik on ...</td>\n",
       "      <td>1</td>\n",
       "    </tr>\n",
       "    <tr>\n",
       "      <th>...</th>\n",
       "      <td>...</td>\n",
       "      <td>...</td>\n",
       "    </tr>\n",
       "    <tr>\n",
       "      <th>1620</th>\n",
       "      <td>ERR-i teleuudised kell 9:00</td>\n",
       "      <td>0</td>\n",
       "    </tr>\n",
       "    <tr>\n",
       "      <th>1622</th>\n",
       "      <td>Aeg-ajalt sajab vihma</td>\n",
       "      <td>0</td>\n",
       "    </tr>\n",
       "    <tr>\n",
       "      <th>1625</th>\n",
       "      <td>Raadiouudised (21.12.2022 09:00:00)</td>\n",
       "      <td>0</td>\n",
       "    </tr>\n",
       "    <tr>\n",
       "      <th>1630</th>\n",
       "      <td>ERR-i teleuudised kell 7:00</td>\n",
       "      <td>0</td>\n",
       "    </tr>\n",
       "    <tr>\n",
       "      <th>1644</th>\n",
       "      <td>Aktuaalne kaamera kell 21:00</td>\n",
       "      <td>0</td>\n",
       "    </tr>\n",
       "  </tbody>\n",
       "</table>\n",
       "<p>122 rows × 2 columns</p>\n",
       "</div>\n",
       "      <button class=\"colab-df-convert\" onclick=\"convertToInteractive('df-7755978c-496f-449b-ac09-e99d82d9cb05')\"\n",
       "              title=\"Convert this dataframe to an interactive table.\"\n",
       "              style=\"display:none;\">\n",
       "        \n",
       "  <svg xmlns=\"http://www.w3.org/2000/svg\" height=\"24px\"viewBox=\"0 0 24 24\"\n",
       "       width=\"24px\">\n",
       "    <path d=\"M0 0h24v24H0V0z\" fill=\"none\"/>\n",
       "    <path d=\"M18.56 5.44l.94 2.06.94-2.06 2.06-.94-2.06-.94-.94-2.06-.94 2.06-2.06.94zm-11 1L8.5 8.5l.94-2.06 2.06-.94-2.06-.94L8.5 2.5l-.94 2.06-2.06.94zm10 10l.94 2.06.94-2.06 2.06-.94-2.06-.94-.94-2.06-.94 2.06-2.06.94z\"/><path d=\"M17.41 7.96l-1.37-1.37c-.4-.4-.92-.59-1.43-.59-.52 0-1.04.2-1.43.59L10.3 9.45l-7.72 7.72c-.78.78-.78 2.05 0 2.83L4 21.41c.39.39.9.59 1.41.59.51 0 1.02-.2 1.41-.59l7.78-7.78 2.81-2.81c.8-.78.8-2.07 0-2.86zM5.41 20L4 18.59l7.72-7.72 1.47 1.35L5.41 20z\"/>\n",
       "  </svg>\n",
       "      </button>\n",
       "      \n",
       "  <style>\n",
       "    .colab-df-container {\n",
       "      display:flex;\n",
       "      flex-wrap:wrap;\n",
       "      gap: 12px;\n",
       "    }\n",
       "\n",
       "    .colab-df-convert {\n",
       "      background-color: #E8F0FE;\n",
       "      border: none;\n",
       "      border-radius: 50%;\n",
       "      cursor: pointer;\n",
       "      display: none;\n",
       "      fill: #1967D2;\n",
       "      height: 32px;\n",
       "      padding: 0 0 0 0;\n",
       "      width: 32px;\n",
       "    }\n",
       "\n",
       "    .colab-df-convert:hover {\n",
       "      background-color: #E2EBFA;\n",
       "      box-shadow: 0px 1px 2px rgba(60, 64, 67, 0.3), 0px 1px 3px 1px rgba(60, 64, 67, 0.15);\n",
       "      fill: #174EA6;\n",
       "    }\n",
       "\n",
       "    [theme=dark] .colab-df-convert {\n",
       "      background-color: #3B4455;\n",
       "      fill: #D2E3FC;\n",
       "    }\n",
       "\n",
       "    [theme=dark] .colab-df-convert:hover {\n",
       "      background-color: #434B5C;\n",
       "      box-shadow: 0px 1px 3px 1px rgba(0, 0, 0, 0.15);\n",
       "      filter: drop-shadow(0px 1px 2px rgba(0, 0, 0, 0.3));\n",
       "      fill: #FFFFFF;\n",
       "    }\n",
       "  </style>\n",
       "\n",
       "      <script>\n",
       "        const buttonEl =\n",
       "          document.querySelector('#df-7755978c-496f-449b-ac09-e99d82d9cb05 button.colab-df-convert');\n",
       "        buttonEl.style.display =\n",
       "          google.colab.kernel.accessAllowed ? 'block' : 'none';\n",
       "\n",
       "        async function convertToInteractive(key) {\n",
       "          const element = document.querySelector('#df-7755978c-496f-449b-ac09-e99d82d9cb05');\n",
       "          const dataTable =\n",
       "            await google.colab.kernel.invokeFunction('convertToInteractive',\n",
       "                                                     [key], {});\n",
       "          if (!dataTable) return;\n",
       "\n",
       "          const docLinkHtml = 'Like what you see? Visit the ' +\n",
       "            '<a target=\"_blank\" href=https://colab.research.google.com/notebooks/data_table.ipynb>data table notebook</a>'\n",
       "            + ' to learn more about interactive tables.';\n",
       "          element.innerHTML = '';\n",
       "          dataTable['output_type'] = 'display_data';\n",
       "          await google.colab.output.renderOutput(dataTable, element);\n",
       "          const docLink = document.createElement('div');\n",
       "          docLink.innerHTML = docLinkHtml;\n",
       "          element.appendChild(docLink);\n",
       "        }\n",
       "      </script>\n",
       "    </div>\n",
       "  </div>\n",
       "  "
      ]
     },
     "metadata": {},
     "execution_count": 8
    }
   ]
  },
  {
   "cell_type": "code",
   "source": [
    "words_clickbait = df.loc[df.label==1, 'no_words'].values\n",
    "words_not_clickbait = df.loc[df.label==0, 'no_words'].values\n",
    "\n",
    "# create 95% confidence interval\n",
    "print(st.norm.interval(alpha=0.95,\n",
    "              loc=np.mean(words_clickbait),\n",
    "              scale=st.sem(words_clickbait)))\n",
    "print(np.mean(words_clickbait))"
   ],
   "metadata": {
    "colab": {
     "base_uri": "https://localhost:8080/"
    },
    "id": "4pRxttqhuuBn",
    "executionInfo": {
     "status": "ok",
     "timestamp": 1673689395762,
     "user_tz": -120,
     "elapsed": 20,
     "user": {
      "displayName": "Lisanna Lehes",
      "userId": "09149713693688229558"
     }
    },
    "outputId": "b86d9541-5e51-4666-b200-deaa2c9f07d4",
    "pycharm": {
     "name": "#%%\n"
    }
   },
   "execution_count": 9,
   "outputs": [
    {
     "output_type": "stream",
     "name": "stdout",
     "text": [
      "(10.557861531738231, 11.058702885439684)\n",
      "10.808282208588958\n"
     ]
    }
   ]
  },
  {
   "cell_type": "code",
   "source": [
    "print(st.norm.interval(alpha=0.95,\n",
    "              loc=np.mean(words_not_clickbait),\n",
    "              scale=st.sem(words_not_clickbait)))\n",
    "print(np.mean(words_not_clickbait))"
   ],
   "metadata": {
    "colab": {
     "base_uri": "https://localhost:8080/"
    },
    "id": "bDBGxUSwvxDr",
    "executionInfo": {
     "status": "ok",
     "timestamp": 1673689395763,
     "user_tz": -120,
     "elapsed": 19,
     "user": {
      "displayName": "Lisanna Lehes",
      "userId": "09149713693688229558"
     }
    },
    "outputId": "3df209b5-f65e-4503-ef63-baf649c3493d",
    "pycharm": {
     "name": "#%%\n"
    }
   },
   "execution_count": 10,
   "outputs": [
    {
     "output_type": "stream",
     "name": "stdout",
     "text": [
      "(7.016188174722524, 7.293811825277476)\n",
      "7.155\n"
     ]
    }
   ]
  },
  {
   "cell_type": "code",
   "source": [
    "stat, p_value = ttest_ind(words_clickbait, words_not_clickbait)\n",
    "print(f\"t-test: statistic={stat:.4f}, p-value={p_value:.4f}\")"
   ],
   "metadata": {
    "colab": {
     "base_uri": "https://localhost:8080/"
    },
    "id": "nuLVkvSgrJrx",
    "executionInfo": {
     "status": "ok",
     "timestamp": 1673689395763,
     "user_tz": -120,
     "elapsed": 17,
     "user": {
      "displayName": "Lisanna Lehes",
      "userId": "09149713693688229558"
     }
    },
    "outputId": "1238ec64-e1cf-4058-c797-f1655972bc96",
    "pycharm": {
     "name": "#%%\n"
    }
   },
   "execution_count": 11,
   "outputs": [
    {
     "output_type": "stream",
     "name": "stdout",
     "text": [
      "t-test: statistic=26.9800, p-value=0.0000\n"
     ]
    }
   ]
  },
  {
   "cell_type": "code",
   "source": [
    "stat, p_value = kstest(words_clickbait, words_not_clickbait)\n",
    "print(f\" Kolmogorov-Smirnov Test: statistic={stat:.4f}, p-value={p_value:.4f}\")"
   ],
   "metadata": {
    "colab": {
     "base_uri": "https://localhost:8080/"
    },
    "id": "lEWkqDvot-7z",
    "executionInfo": {
     "status": "ok",
     "timestamp": 1673689395764,
     "user_tz": -120,
     "elapsed": 16,
     "user": {
      "displayName": "Lisanna Lehes",
      "userId": "09149713693688229558"
     }
    },
    "outputId": "96593ffc-7f17-47de-a906-76fd395b17cd",
    "pycharm": {
     "name": "#%%\n"
    }
   },
   "execution_count": 12,
   "outputs": [
    {
     "output_type": "stream",
     "name": "stdout",
     "text": [
      " Kolmogorov-Smirnov Test: statistic=0.4746, p-value=0.0000\n"
     ]
    }
   ]
  },
  {
   "cell_type": "markdown",
   "source": [
    "### Headline contains a '?'\n"
   ],
   "metadata": {
    "id": "edgiRxfBWY6Z",
    "pycharm": {
     "name": "#%% md\n"
    }
   }
  },
  {
   "cell_type": "code",
   "source": [
    "plt.figure(figsize = (8,6))\n",
    "ax = sns.countplot(x ='has_question_mark', hue = \"label\", data = df)\n",
    "ax.set(xlabel=\"Küsimärk\", ylabel='Artiklite arv')\n",
    "plt.legend(title='Label', labels=['Mitte-klõpsulõks', 'Klõpsulõks'])\n",
    "ax.set(xticklabels=['Ei','Jah'])\n",
    "#plt.savefig('kysi_dist')\n",
    "plt.show()"
   ],
   "metadata": {
    "colab": {
     "base_uri": "https://localhost:8080/",
     "height": 391
    },
    "id": "Pt-PVHg4fOva",
    "executionInfo": {
     "status": "ok",
     "timestamp": 1673689395765,
     "user_tz": -120,
     "elapsed": 16,
     "user": {
      "displayName": "Lisanna Lehes",
      "userId": "09149713693688229558"
     }
    },
    "outputId": "9301be75-cf46-4bb6-dc5c-8d87d4c598d0",
    "pycharm": {
     "name": "#%%\n"
    }
   },
   "execution_count": 13,
   "outputs": [
    {
     "output_type": "display_data",
     "data": {
      "text/plain": [
       "<Figure size 576x432 with 1 Axes>"
      ],
      "image/png": "[encoded data removed]"
     },
     "metadata": {}
    }
   ]
  },
  {
   "cell_type": "code",
   "source": [
    "df[['sentence', 'label']][(df[\"has_question_mark\"] == 1) & (df['label'] == 0)] "
   ],
   "metadata": {
    "colab": {
     "base_uri": "https://localhost:8080/",
     "height": 206
    },
    "id": "ghsTFFoPfrng",
    "executionInfo": {
     "status": "ok",
     "timestamp": 1673689395765,
     "user_tz": -120,
     "elapsed": 14,
     "user": {
      "displayName": "Lisanna Lehes",
      "userId": "09149713693688229558"
     }
    },
    "outputId": "0acda066-17ee-4eb0-fb9d-f4ae4a56728b",
    "pycharm": {
     "name": "#%%\n"
    }
   },
   "execution_count": 14,
   "outputs": [
    {
     "output_type": "execute_result",
     "data": {
      "text/plain": [
       "                                                                              sentence  \\\n",
       "891                                            R2 Aastahitt | 5miinust \"?mis sa tegid\"   \n",
       "1078  Arvustus. Kadri-Ann Sumera \"Basiliski lapsed\": kust küll kõik need lollid tulid?   \n",
       "1297                                 Viktoriin: millised olid ajaloolised jõulukombed?   \n",
       "1508                                       Minutiloeng: kust tuleb tänapäeva kingiiha?   \n",
       "1633                        Viktoriin: mida kujutab endast jõuludele eelnev toomapäev?   \n",
       "\n",
       "      label  \n",
       "891       0  \n",
       "1078      0  \n",
       "1297      0  \n",
       "1508      0  \n",
       "1633      0  "
      ],
      "text/html": [
       "\n",
       "  <div id=\"df-5b947753-04de-405a-9b86-9ac75d75f22b\">\n",
       "    <div class=\"colab-df-container\">\n",
       "      <div>\n",
       "<style scoped>\n",
       "    .dataframe tbody tr th:only-of-type {\n",
       "        vertical-align: middle;\n",
       "    }\n",
       "\n",
       "    .dataframe tbody tr th {\n",
       "        vertical-align: top;\n",
       "    }\n",
       "\n",
       "    .dataframe thead th {\n",
       "        text-align: right;\n",
       "    }\n",
       "</style>\n",
       "<table border=\"1\" class=\"dataframe\">\n",
       "  <thead>\n",
       "    <tr style=\"text-align: right;\">\n",
       "      <th></th>\n",
       "      <th>sentence</th>\n",
       "      <th>label</th>\n",
       "    </tr>\n",
       "  </thead>\n",
       "  <tbody>\n",
       "    <tr>\n",
       "      <th>891</th>\n",
       "      <td>R2 Aastahitt | 5miinust \"?mis sa tegid\"</td>\n",
       "      <td>0</td>\n",
       "    </tr>\n",
       "    <tr>\n",
       "      <th>1078</th>\n",
       "      <td>Arvustus. Kadri-Ann Sumera \"Basiliski lapsed\": kust küll kõik need lollid tulid?</td>\n",
       "      <td>0</td>\n",
       "    </tr>\n",
       "    <tr>\n",
       "      <th>1297</th>\n",
       "      <td>Viktoriin: millised olid ajaloolised jõulukombed?</td>\n",
       "      <td>0</td>\n",
       "    </tr>\n",
       "    <tr>\n",
       "      <th>1508</th>\n",
       "      <td>Minutiloeng: kust tuleb tänapäeva kingiiha?</td>\n",
       "      <td>0</td>\n",
       "    </tr>\n",
       "    <tr>\n",
       "      <th>1633</th>\n",
       "      <td>Viktoriin: mida kujutab endast jõuludele eelnev toomapäev?</td>\n",
       "      <td>0</td>\n",
       "    </tr>\n",
       "  </tbody>\n",
       "</table>\n",
       "</div>\n",
       "      <button class=\"colab-df-convert\" onclick=\"convertToInteractive('df-5b947753-04de-405a-9b86-9ac75d75f22b')\"\n",
       "              title=\"Convert this dataframe to an interactive table.\"\n",
       "              style=\"display:none;\">\n",
       "        \n",
       "  <svg xmlns=\"http://www.w3.org/2000/svg\" height=\"24px\"viewBox=\"0 0 24 24\"\n",
       "       width=\"24px\">\n",
       "    <path d=\"M0 0h24v24H0V0z\" fill=\"none\"/>\n",
       "    <path d=\"M18.56 5.44l.94 2.06.94-2.06 2.06-.94-2.06-.94-.94-2.06-.94 2.06-2.06.94zm-11 1L8.5 8.5l.94-2.06 2.06-.94-2.06-.94L8.5 2.5l-.94 2.06-2.06.94zm10 10l.94 2.06.94-2.06 2.06-.94-2.06-.94-.94-2.06-.94 2.06-2.06.94z\"/><path d=\"M17.41 7.96l-1.37-1.37c-.4-.4-.92-.59-1.43-.59-.52 0-1.04.2-1.43.59L10.3 9.45l-7.72 7.72c-.78.78-.78 2.05 0 2.83L4 21.41c.39.39.9.59 1.41.59.51 0 1.02-.2 1.41-.59l7.78-7.78 2.81-2.81c.8-.78.8-2.07 0-2.86zM5.41 20L4 18.59l7.72-7.72 1.47 1.35L5.41 20z\"/>\n",
       "  </svg>\n",
       "      </button>\n",
       "      \n",
       "  <style>\n",
       "    .colab-df-container {\n",
       "      display:flex;\n",
       "      flex-wrap:wrap;\n",
       "      gap: 12px;\n",
       "    }\n",
       "\n",
       "    .colab-df-convert {\n",
       "      background-color: #E8F0FE;\n",
       "      border: none;\n",
       "      border-radius: 50%;\n",
       "      cursor: pointer;\n",
       "      display: none;\n",
       "      fill: #1967D2;\n",
       "      height: 32px;\n",
       "      padding: 0 0 0 0;\n",
       "      width: 32px;\n",
       "    }\n",
       "\n",
       "    .colab-df-convert:hover {\n",
       "      background-color: #E2EBFA;\n",
       "      box-shadow: 0px 1px 2px rgba(60, 64, 67, 0.3), 0px 1px 3px 1px rgba(60, 64, 67, 0.15);\n",
       "      fill: #174EA6;\n",
       "    }\n",
       "\n",
       "    [theme=dark] .colab-df-convert {\n",
       "      background-color: #3B4455;\n",
       "      fill: #D2E3FC;\n",
       "    }\n",
       "\n",
       "    [theme=dark] .colab-df-convert:hover {\n",
       "      background-color: #434B5C;\n",
       "      box-shadow: 0px 1px 3px 1px rgba(0, 0, 0, 0.15);\n",
       "      filter: drop-shadow(0px 1px 2px rgba(0, 0, 0, 0.3));\n",
       "      fill: #FFFFFF;\n",
       "    }\n",
       "  </style>\n",
       "\n",
       "      <script>\n",
       "        const buttonEl =\n",
       "          document.querySelector('#df-5b947753-04de-405a-9b86-9ac75d75f22b button.colab-df-convert');\n",
       "        buttonEl.style.display =\n",
       "          google.colab.kernel.accessAllowed ? 'block' : 'none';\n",
       "\n",
       "        async function convertToInteractive(key) {\n",
       "          const element = document.querySelector('#df-5b947753-04de-405a-9b86-9ac75d75f22b');\n",
       "          const dataTable =\n",
       "            await google.colab.kernel.invokeFunction('convertToInteractive',\n",
       "                                                     [key], {});\n",
       "          if (!dataTable) return;\n",
       "\n",
       "          const docLinkHtml = 'Like what you see? Visit the ' +\n",
       "            '<a target=\"_blank\" href=https://colab.research.google.com/notebooks/data_table.ipynb>data table notebook</a>'\n",
       "            + ' to learn more about interactive tables.';\n",
       "          element.innerHTML = '';\n",
       "          dataTable['output_type'] = 'display_data';\n",
       "          await google.colab.output.renderOutput(dataTable, element);\n",
       "          const docLink = document.createElement('div');\n",
       "          docLink.innerHTML = docLinkHtml;\n",
       "          element.appendChild(docLink);\n",
       "        }\n",
       "      </script>\n",
       "    </div>\n",
       "  </div>\n",
       "  "
      ]
     },
     "metadata": {},
     "execution_count": 14
    }
   ]
  },
  {
   "cell_type": "markdown",
   "source": [
    "### Headline contains a '!'"
   ],
   "metadata": {
    "id": "wrS-7rMMV7VC",
    "pycharm": {
     "name": "#%% md\n"
    }
   }
  },
  {
   "cell_type": "code",
   "source": [
    "plt.figure(figsize = (8,6))\n",
    "ax = sns.countplot(x ='has_exclamation_mark', hue = \"label\", data = df)\n",
    "ax.set(xlabel=\"Hüüumärk\", ylabel='Artiklite arv')\n",
    "plt.legend(title='Label', labels=['Mitte-klõpsulõks', 'Klõpsulõks'])\n",
    "ax.set(xticklabels=['Ei','Jah'])\n",
    "#plt.savefig('hyyu_dist')\n",
    "plt.show()"
   ],
   "metadata": {
    "colab": {
     "base_uri": "https://localhost:8080/",
     "height": 391
    },
    "id": "XZSDPRpqSZbF",
    "executionInfo": {
     "status": "ok",
     "timestamp": 1673689396202,
     "user_tz": -120,
     "elapsed": 450,
     "user": {
      "displayName": "Lisanna Lehes",
      "userId": "09149713693688229558"
     }
    },
    "outputId": "67575cdc-0255-43fd-9744-4951d1a955d7",
    "pycharm": {
     "name": "#%%\n"
    }
   },
   "execution_count": 15,
   "outputs": [
    {
     "output_type": "display_data",
     "data": {
      "text/plain": [
       "<Figure size 576x432 with 1 Axes>"
      ],
      "image/png": "[encoded data removed]"
     },
     "metadata": {}
    }
   ]
  },
  {
   "cell_type": "code",
   "source": [
    "df[['sentence', 'label']][(df[\"has_exclamation_mark\"] == 1) & (df['label'] == 0)] "
   ],
   "metadata": {
    "colab": {
     "base_uri": "https://localhost:8080/",
     "height": 49
    },
    "id": "eayHXJlLSZYT",
    "executionInfo": {
     "status": "ok",
     "timestamp": 1673689396203,
     "user_tz": -120,
     "elapsed": 39,
     "user": {
      "displayName": "Lisanna Lehes",
      "userId": "09149713693688229558"
     }
    },
    "outputId": "69c97cd0-d673-420d-8df0-da7a9fa26dc6",
    "pycharm": {
     "name": "#%%\n"
    }
   },
   "execution_count": 16,
   "outputs": [
    {
     "output_type": "execute_result",
     "data": {
      "text/plain": [
       "Empty DataFrame\n",
       "Columns: [sentence, label]\n",
       "Index: []"
      ],
      "text/html": [
       "\n",
       "  <div id=\"df-e2d053fd-0fe7-4dce-9ef3-823122a2499b\">\n",
       "    <div class=\"colab-df-container\">\n",
       "      <div>\n",
       "<style scoped>\n",
       "    .dataframe tbody tr th:only-of-type {\n",
       "        vertical-align: middle;\n",
       "    }\n",
       "\n",
       "    .dataframe tbody tr th {\n",
       "        vertical-align: top;\n",
       "    }\n",
       "\n",
       "    .dataframe thead th {\n",
       "        text-align: right;\n",
       "    }\n",
       "</style>\n",
       "<table border=\"1\" class=\"dataframe\">\n",
       "  <thead>\n",
       "    <tr style=\"text-align: right;\">\n",
       "      <th></th>\n",
       "      <th>sentence</th>\n",
       "      <th>label</th>\n",
       "    </tr>\n",
       "  </thead>\n",
       "  <tbody>\n",
       "  </tbody>\n",
       "</table>\n",
       "</div>\n",
       "      <button class=\"colab-df-convert\" onclick=\"convertToInteractive('df-e2d053fd-0fe7-4dce-9ef3-823122a2499b')\"\n",
       "              title=\"Convert this dataframe to an interactive table.\"\n",
       "              style=\"display:none;\">\n",
       "        \n",
       "  <svg xmlns=\"http://www.w3.org/2000/svg\" height=\"24px\"viewBox=\"0 0 24 24\"\n",
       "       width=\"24px\">\n",
       "    <path d=\"M0 0h24v24H0V0z\" fill=\"none\"/>\n",
       "    <path d=\"M18.56 5.44l.94 2.06.94-2.06 2.06-.94-2.06-.94-.94-2.06-.94 2.06-2.06.94zm-11 1L8.5 8.5l.94-2.06 2.06-.94-2.06-.94L8.5 2.5l-.94 2.06-2.06.94zm10 10l.94 2.06.94-2.06 2.06-.94-2.06-.94-.94-2.06-.94 2.06-2.06.94z\"/><path d=\"M17.41 7.96l-1.37-1.37c-.4-.4-.92-.59-1.43-.59-.52 0-1.04.2-1.43.59L10.3 9.45l-7.72 7.72c-.78.78-.78 2.05 0 2.83L4 21.41c.39.39.9.59 1.41.59.51 0 1.02-.2 1.41-.59l7.78-7.78 2.81-2.81c.8-.78.8-2.07 0-2.86zM5.41 20L4 18.59l7.72-7.72 1.47 1.35L5.41 20z\"/>\n",
       "  </svg>\n",
       "      </button>\n",
       "      \n",
       "  <style>\n",
       "    .colab-df-container {\n",
       "      display:flex;\n",
       "      flex-wrap:wrap;\n",
       "      gap: 12px;\n",
       "    }\n",
       "\n",
       "    .colab-df-convert {\n",
       "      background-color: #E8F0FE;\n",
       "      border: none;\n",
       "      border-radius: 50%;\n",
       "      cursor: pointer;\n",
       "      display: none;\n",
       "      fill: #1967D2;\n",
       "      height: 32px;\n",
       "      padding: 0 0 0 0;\n",
       "      width: 32px;\n",
       "    }\n",
       "\n",
       "    .colab-df-convert:hover {\n",
       "      background-color: #E2EBFA;\n",
       "      box-shadow: 0px 1px 2px rgba(60, 64, 67, 0.3), 0px 1px 3px 1px rgba(60, 64, 67, 0.15);\n",
       "      fill: #174EA6;\n",
       "    }\n",
       "\n",
       "    [theme=dark] .colab-df-convert {\n",
       "      background-color: #3B4455;\n",
       "      fill: #D2E3FC;\n",
       "    }\n",
       "\n",
       "    [theme=dark] .colab-df-convert:hover {\n",
       "      background-color: #434B5C;\n",
       "      box-shadow: 0px 1px 3px 1px rgba(0, 0, 0, 0.15);\n",
       "      filter: drop-shadow(0px 1px 2px rgba(0, 0, 0, 0.3));\n",
       "      fill: #FFFFFF;\n",
       "    }\n",
       "  </style>\n",
       "\n",
       "      <script>\n",
       "        const buttonEl =\n",
       "          document.querySelector('#df-e2d053fd-0fe7-4dce-9ef3-823122a2499b button.colab-df-convert');\n",
       "        buttonEl.style.display =\n",
       "          google.colab.kernel.accessAllowed ? 'block' : 'none';\n",
       "\n",
       "        async function convertToInteractive(key) {\n",
       "          const element = document.querySelector('#df-e2d053fd-0fe7-4dce-9ef3-823122a2499b');\n",
       "          const dataTable =\n",
       "            await google.colab.kernel.invokeFunction('convertToInteractive',\n",
       "                                                     [key], {});\n",
       "          if (!dataTable) return;\n",
       "\n",
       "          const docLinkHtml = 'Like what you see? Visit the ' +\n",
       "            '<a target=\"_blank\" href=https://colab.research.google.com/notebooks/data_table.ipynb>data table notebook</a>'\n",
       "            + ' to learn more about interactive tables.';\n",
       "          element.innerHTML = '';\n",
       "          dataTable['output_type'] = 'display_data';\n",
       "          await google.colab.output.renderOutput(dataTable, element);\n",
       "          const docLink = document.createElement('div');\n",
       "          docLink.innerHTML = docLinkHtml;\n",
       "          element.appendChild(docLink);\n",
       "        }\n",
       "      </script>\n",
       "    </div>\n",
       "  </div>\n",
       "  "
      ]
     },
     "metadata": {},
     "execution_count": 16
    }
   ]
  },
  {
   "cell_type": "markdown",
   "source": [
    "### Top x clickbait headline words\n",
    "\n",
    "\n"
   ],
   "metadata": {
    "id": "v_zyxop6W6IM",
    "pycharm": {
     "name": "#%% md\n"
    }
   }
  },
  {
   "cell_type": "code",
   "source": [
    "# preprocess\n",
    "with open('estonian-stopwords.txt', encoding='utf-8') as f:\n",
    "    stop_words_est = [word for line in f for word in line.split()]\n",
    "\n",
    "def text_preprocess_est(x):\n",
    "    x = x.lower() # lower casing\n",
    "    x = ' '.join([word for word in x.split(' ') if word not in stop_words_est]) # remove stop words\n",
    "    # x = x.encode('ascii', 'ignore').decode() # remove unicode characters # commented out cuz removes also ö,ä,ü,õ\n",
    "    x = re.sub(r'https*\\S+', ' ', x) # remove urls\n",
    "    x = re.sub(r'\\'\\w+', '', x) # remove ticks and the next character\n",
    "    x = re.sub('[%s]' % re.escape(string.punctuation), ' ', x)\n",
    "    x = re.sub(r'\\w*\\d+\\w*', '', x) # remove punctuations\n",
    "    x = re.sub(r'\\s{2,}', ' ', x) # replace the over spaces\n",
    "    return x\n",
    "\n",
    "df['clean_text'] = df['sentence'].apply(text_preprocess_est)"
   ],
   "metadata": {
    "id": "urxPWEuproBI",
    "executionInfo": {
     "status": "ok",
     "timestamp": 1673689397066,
     "user_tz": -120,
     "elapsed": 897,
     "user": {
      "displayName": "Lisanna Lehes",
      "userId": "09149713693688229558"
     }
    },
    "pycharm": {
     "name": "#%%\n"
    }
   },
   "execution_count": 17,
   "outputs": []
  },
  {
   "cell_type": "code",
   "source": [
    "# initialize CounVectorizer\n",
    "def create_term_matrix(in_data):\n",
    "    cv = CountVectorizer(analyzer = 'word')\n",
    "    data = cv.fit_transform(in_data['clean_text'])\n",
    "    tm_matrix = pd.DataFrame(data.toarray(), columns = cv.get_feature_names_out())\n",
    "    tm_matrix.index = in_data.index\n",
    "    return tm_matrix.sum().transpose()"
   ],
   "metadata": {
    "id": "jOOBeN4Gpb08",
    "executionInfo": {
     "status": "ok",
     "timestamp": 1673689397066,
     "user_tz": -120,
     "elapsed": 9,
     "user": {
      "displayName": "Lisanna Lehes",
      "userId": "09149713693688229558"
     }
    },
    "pycharm": {
     "name": "#%%\n"
    }
   },
   "execution_count": 18,
   "outputs": []
  },
  {
   "cell_type": "code",
   "source": [
    "# subset data\n",
    "clickbait_df = df[df[\"label\"] == 1] \n",
    "non_clickbait_df = df[df[\"label\"] == 0] \n",
    "print(len(clickbait_df))\n",
    "print(len(non_clickbait_df))"
   ],
   "metadata": {
    "colab": {
     "base_uri": "https://localhost:8080/"
    },
    "id": "GFYs3YdOqJpQ",
    "executionInfo": {
     "status": "ok",
     "timestamp": 1673689397067,
     "user_tz": -120,
     "elapsed": 8,
     "user": {
      "displayName": "Lisanna Lehes",
      "userId": "09149713693688229558"
     }
    },
    "outputId": "28791862-3500-42c1-8fdb-5442384ff486",
    "pycharm": {
     "name": "#%%\n"
    }
   },
   "execution_count": 19,
   "outputs": [
    {
     "output_type": "stream",
     "name": "stdout",
     "text": [
      "652\n",
      "1000\n"
     ]
    }
   ]
  },
  {
   "cell_type": "code",
   "source": [
    "# print top15 clickbait words\n",
    "clickbait_words = create_term_matrix(clickbait_df)\n",
    "clickbait_words = pd.DataFrame(clickbait_words.items(), columns=['word', 'n'])\n",
    "clickbait_words_plot = clickbait_words.sort_values(by='n', ascending=False).head(30)\n",
    "print(clickbait_words.sort_values(by='n', ascending=False).head(15))"
   ],
   "metadata": {
    "colab": {
     "base_uri": "https://localhost:8080/"
    },
    "id": "S8OTzZ91SZVj",
    "executionInfo": {
     "status": "ok",
     "timestamp": 1673689397471,
     "user_tz": -120,
     "elapsed": 409,
     "user": {
      "displayName": "Lisanna Lehes",
      "userId": "09149713693688229558"
     }
    },
    "outputId": "d61c1b94-97a0-443d-e037-786da67b1b4e",
    "pycharm": {
     "name": "#%%\n"
    }
   },
   "execution_count": 20,
   "outputs": [
    {
     "output_type": "stream",
     "name": "stdout",
     "text": [
      "            word   n\n",
      "313        eesti  44\n",
      "3162       video  30\n",
      "1928   paljastas  22\n",
      "2192     põhjuse  19\n",
      "1542        mees  18\n",
      "475         foto  18\n",
      "183      avaldas  17\n",
      "2749  tegelikult  16\n",
      "2442      selgus  16\n",
      "1695       naine  14\n",
      "2720       teada  14\n",
      "3048       vaata  13\n",
      "40         aitab  13\n",
      "476        fotod  13\n",
      "3387    üllatava  13\n"
     ]
    }
   ]
  },
  {
   "cell_type": "code",
   "source": [
    "plt.figure(figsize=(20, 12))\n",
    "sns.barplot(data = clickbait_words_plot, x = 'word', y = 'n', palette='cubehelix')\n",
    "plt.xticks(fontsize=21)\n",
    "plt.xticks(rotation=70)\n",
    "plt.title('Top 30 Klõpsulõksu sõna', fontsize=26)\n",
    "plt.xlabel('')\n",
    "plt.ylabel('n', fontsize=23)\n",
    "#plt.savefig('clickbait_words')"
   ],
   "metadata": {
    "colab": {
     "base_uri": "https://localhost:8080/",
     "height": 838
    },
    "id": "pclzMJcGuuUA",
    "executionInfo": {
     "status": "ok",
     "timestamp": 1673689398405,
     "user_tz": -120,
     "elapsed": 943,
     "user": {
      "displayName": "Lisanna Lehes",
      "userId": "09149713693688229558"
     }
    },
    "outputId": "a6114f36-59ef-4ba9-935d-f0b79dc0bd04",
    "pycharm": {
     "name": "#%%\n"
    }
   },
   "execution_count": 21,
   "outputs": [
    {
     "output_type": "execute_result",
     "data": {
      "text/plain": [
       "Text(0, 0.5, 'n')"
      ]
     },
     "metadata": {},
     "execution_count": 21
    },
    {
     "output_type": "display_data",
     "data": {
      "text/plain": [
       "<Figure size 1440x864 with 1 Axes>"
      ],
      "image/png": "[encoded data removed]"
     },
     "metadata": {}
    }
   ]
  },
  {
   "cell_type": "markdown",
   "source": [
    "### Top x non-clickbait headline words"
   ],
   "metadata": {
    "id": "UXSuENiTjfJY",
    "pycharm": {
     "name": "#%% md\n"
    }
   }
  },
  {
   "cell_type": "code",
   "source": [
    "# print top15 non-clickbait words\n",
    "non_clickbait_words = create_term_matrix(non_clickbait_df)\n",
    "non_clickbait_words = pd.DataFrame(non_clickbait_words.items(), columns=['word', 'n'])\n",
    "non_clickbait_words_plot = non_clickbait_words.sort_values(by='n', ascending=False).head(30)\n",
    "print(non_clickbait_words.sort_values(by='n', ascending=False).head(15))"
   ],
   "metadata": {
    "colab": {
     "base_uri": "https://localhost:8080/"
    },
    "id": "k9imEQyaSZS6",
    "executionInfo": {
     "status": "ok",
     "timestamp": 1673689398813,
     "user_tz": -120,
     "elapsed": 432,
     "user": {
      "displayName": "Lisanna Lehes",
      "userId": "09149713693688229558"
     }
    },
    "outputId": "a35f73d8-c81a-42db-84d7-5e31ee66c14c",
    "pycharm": {
     "name": "#%%\n"
    }
   },
   "execution_count": 22,
   "outputs": [
    {
     "output_type": "stream",
     "name": "stdout",
     "text": [
      "               word   n\n",
      "3             aasta  48\n",
      "390           eesti  47\n",
      "1123           kell  32\n",
      "93        aktuaalne  25\n",
      "981         kaamera  25\n",
      "3452        ukraina  22\n",
      "585         galerii  21\n",
      "2590  raadiouudised  21\n",
      "3631        venemaa  19\n",
      "3481            uue  19\n",
      "3134          tartu  18\n",
      "3649          video  17\n",
      "11           aastal  17\n",
      "3626           vene  16\n",
      "3071           taas  15\n"
     ]
    }
   ]
  },
  {
   "cell_type": "code",
   "source": [
    "plt.figure(figsize=(20, 12))\n",
    "sns.barplot(data = non_clickbait_words_plot, x = 'word', y = 'n', palette='rocket')\n",
    "plt.xticks(fontsize=21)\n",
    "plt.xticks(rotation=60)\n",
    "plt.title('Top 30 mitte-klõpsulõksu sõna', fontsize=26)\n",
    "plt.xlabel('')\n",
    "plt.ylabel('n', fontsize=23)\n",
    "plt.savefig('non_clickbait_words')"
   ],
   "metadata": {
    "colab": {
     "base_uri": "https://localhost:8080/",
     "height": 855
    },
    "id": "btBoLv88SZKa",
    "executionInfo": {
     "status": "ok",
     "timestamp": 1673689400526,
     "user_tz": -120,
     "elapsed": 1730,
     "user": {
      "displayName": "Lisanna Lehes",
      "userId": "09149713693688229558"
     }
    },
    "outputId": "ec122151-c7c0-49f5-a728-7012ea7499cd",
    "pycharm": {
     "name": "#%%\n"
    }
   },
   "execution_count": 23,
   "outputs": [
    {
     "output_type": "display_data",
     "data": {
      "text/plain": [
       "<Figure size 1440x864 with 1 Axes>"
      ],
      "image/png": "[encoded data removed]"
     },
     "metadata": {}
    }
   ]
  },
  {
   "cell_type": "markdown",
   "source": [
    "## Modeling\n",
    "\n",
    "- Lazy Predict library: https://lazypredict.readthedocs.io/en/latest/usage.html#classification "
   ],
   "metadata": {
    "id": "3ri5LkTOxmi1",
    "pycharm": {
     "name": "#%% md\n"
    }
   }
  },
  {
   "cell_type": "code",
   "source": [
    "X = df.drop(['label', 'clean_text', 'sentence', 'article_url', 'starts_with_number'], axis = 1)\n",
    "y = df['label']\n",
    "\n",
    "X_train, X_test, y_train, y_test = train_test_split(X, y, test_size=0.33, random_state = 2023)\n",
    "\n",
    "clf = LazyClassifier(verbose=0, ignore_warnings=True, custom_metric=None)\n",
    "\n",
    "models, predictions = clf.fit(X_train, X_test, y_train, y_test)\n",
    "models"
   ],
   "metadata": {
    "colab": {
     "base_uri": "https://localhost:8080/",
     "height": 945
    },
    "id": "yVsxLy2Fwu6j",
    "executionInfo": {
     "status": "ok",
     "timestamp": 1673689404825,
     "user_tz": -120,
     "elapsed": 4316,
     "user": {
      "displayName": "Lisanna Lehes",
      "userId": "09149713693688229558"
     }
    },
    "outputId": "983e53a4-2754-40d9-e05b-a023bdc14ec9",
    "pycharm": {
     "name": "#%%\n"
    }
   },
   "execution_count": 24,
   "outputs": [
    {
     "output_type": "stream",
     "name": "stderr",
     "text": [
      "100%|██████████| 29/29 [00:04<00:00,  6.22it/s]\n"
     ]
    },
    {
     "output_type": "execute_result",
     "data": {
      "text/plain": [
       "                               Accuracy  Balanced Accuracy  ROC AUC  F1 Score  \\\n",
       "Model                                                                           \n",
       "SVC                                0.86               0.84     0.84      0.86   \n",
       "LinearSVC                          0.86               0.84     0.84      0.85   \n",
       "KNeighborsClassifier               0.86               0.84     0.84      0.85   \n",
       "CalibratedClassifierCV             0.86               0.84     0.84      0.85   \n",
       "NuSVC                              0.86               0.84     0.84      0.86   \n",
       "LogisticRegression                 0.85               0.84     0.84      0.85   \n",
       "AdaBoostClassifier                 0.85               0.84     0.84      0.85   \n",
       "LGBMClassifier                     0.84               0.84     0.84      0.84   \n",
       "RidgeClassifierCV                  0.86               0.83     0.83      0.85   \n",
       "ExtraTreesClassifier               0.84               0.83     0.83      0.84   \n",
       "LinearDiscriminantAnalysis         0.85               0.83     0.83      0.85   \n",
       "RidgeClassifier                    0.85               0.83     0.83      0.85   \n",
       "XGBClassifier                      0.85               0.83     0.83      0.84   \n",
       "RandomForestClassifier             0.84               0.83     0.83      0.84   \n",
       "SGDClassifier                      0.84               0.83     0.83      0.84   \n",
       "NearestCentroid                    0.83               0.82     0.82      0.83   \n",
       "BaggingClassifier                  0.83               0.82     0.82      0.83   \n",
       "BernoulliNB                        0.81               0.81     0.81      0.81   \n",
       "PassiveAggressiveClassifier        0.82               0.81     0.81      0.82   \n",
       "LabelSpreading                     0.80               0.79     0.79      0.80   \n",
       "Perceptron                         0.77               0.79     0.79      0.77   \n",
       "LabelPropagation                   0.79               0.79     0.79      0.79   \n",
       "ExtraTreeClassifier                0.79               0.78     0.78      0.79   \n",
       "DecisionTreeClassifier             0.77               0.77     0.77      0.77   \n",
       "GaussianNB                         0.80               0.77     0.77      0.79   \n",
       "QuadraticDiscriminantAnalysis      0.78               0.74     0.74      0.76   \n",
       "DummyClassifier                    0.58               0.50     0.50      0.43   \n",
       "\n",
       "                               Time Taken  \n",
       "Model                                      \n",
       "SVC                                  0.16  \n",
       "LinearSVC                            0.10  \n",
       "KNeighborsClassifier                 0.12  \n",
       "CalibratedClassifierCV               0.50  \n",
       "NuSVC                                0.20  \n",
       "LogisticRegression                   0.09  \n",
       "AdaBoostClassifier                   0.31  \n",
       "LGBMClassifier                       0.16  \n",
       "RidgeClassifierCV                    0.04  \n",
       "ExtraTreesClassifier                 0.52  \n",
       "LinearDiscriminantAnalysis           0.09  \n",
       "RidgeClassifier                      0.03  \n",
       "XGBClassifier                        0.39  \n",
       "RandomForestClassifier               0.58  \n",
       "SGDClassifier                        0.07  \n",
       "NearestCentroid                      0.05  \n",
       "BaggingClassifier                    0.09  \n",
       "BernoulliNB                          0.04  \n",
       "PassiveAggressiveClassifier          0.03  \n",
       "LabelSpreading                       0.36  \n",
       "Perceptron                           0.03  \n",
       "LabelPropagation                     0.30  \n",
       "ExtraTreeClassifier                  0.04  \n",
       "DecisionTreeClassifier               0.05  \n",
       "GaussianNB                           0.02  \n",
       "QuadraticDiscriminantAnalysis        0.08  \n",
       "DummyClassifier                      0.04  "
      ],
      "text/html": [
       "\n",
       "  <div id=\"df-f09cf2d6-e627-4404-a730-59a6cf5f4710\">\n",
       "    <div class=\"colab-df-container\">\n",
       "      <div>\n",
       "<style scoped>\n",
       "    .dataframe tbody tr th:only-of-type {\n",
       "        vertical-align: middle;\n",
       "    }\n",
       "\n",
       "    .dataframe tbody tr th {\n",
       "        vertical-align: top;\n",
       "    }\n",
       "\n",
       "    .dataframe thead th {\n",
       "        text-align: right;\n",
       "    }\n",
       "</style>\n",
       "<table border=\"1\" class=\"dataframe\">\n",
       "  <thead>\n",
       "    <tr style=\"text-align: right;\">\n",
       "      <th></th>\n",
       "      <th>Accuracy</th>\n",
       "      <th>Balanced Accuracy</th>\n",
       "      <th>ROC AUC</th>\n",
       "      <th>F1 Score</th>\n",
       "      <th>Time Taken</th>\n",
       "    </tr>\n",
       "    <tr>\n",
       "      <th>Model</th>\n",
       "      <th></th>\n",
       "      <th></th>\n",
       "      <th></th>\n",
       "      <th></th>\n",
       "      <th></th>\n",
       "    </tr>\n",
       "  </thead>\n",
       "  <tbody>\n",
       "    <tr>\n",
       "      <th>SVC</th>\n",
       "      <td>0.86</td>\n",
       "      <td>0.84</td>\n",
       "      <td>0.84</td>\n",
       "      <td>0.86</td>\n",
       "      <td>0.16</td>\n",
       "    </tr>\n",
       "    <tr>\n",
       "      <th>LinearSVC</th>\n",
       "      <td>0.86</td>\n",
       "      <td>0.84</td>\n",
       "      <td>0.84</td>\n",
       "      <td>0.85</td>\n",
       "      <td>0.10</td>\n",
       "    </tr>\n",
       "    <tr>\n",
       "      <th>KNeighborsClassifier</th>\n",
       "      <td>0.86</td>\n",
       "      <td>0.84</td>\n",
       "      <td>0.84</td>\n",
       "      <td>0.85</td>\n",
       "      <td>0.12</td>\n",
       "    </tr>\n",
       "    <tr>\n",
       "      <th>CalibratedClassifierCV</th>\n",
       "      <td>0.86</td>\n",
       "      <td>0.84</td>\n",
       "      <td>0.84</td>\n",
       "      <td>0.85</td>\n",
       "      <td>0.50</td>\n",
       "    </tr>\n",
       "    <tr>\n",
       "      <th>NuSVC</th>\n",
       "      <td>0.86</td>\n",
       "      <td>0.84</td>\n",
       "      <td>0.84</td>\n",
       "      <td>0.86</td>\n",
       "      <td>0.20</td>\n",
       "    </tr>\n",
       "    <tr>\n",
       "      <th>LogisticRegression</th>\n",
       "      <td>0.85</td>\n",
       "      <td>0.84</td>\n",
       "      <td>0.84</td>\n",
       "      <td>0.85</td>\n",
       "      <td>0.09</td>\n",
       "    </tr>\n",
       "    <tr>\n",
       "      <th>AdaBoostClassifier</th>\n",
       "      <td>0.85</td>\n",
       "      <td>0.84</td>\n",
       "      <td>0.84</td>\n",
       "      <td>0.85</td>\n",
       "      <td>0.31</td>\n",
       "    </tr>\n",
       "    <tr>\n",
       "      <th>LGBMClassifier</th>\n",
       "      <td>0.84</td>\n",
       "      <td>0.84</td>\n",
       "      <td>0.84</td>\n",
       "      <td>0.84</td>\n",
       "      <td>0.16</td>\n",
       "    </tr>\n",
       "    <tr>\n",
       "      <th>RidgeClassifierCV</th>\n",
       "      <td>0.86</td>\n",
       "      <td>0.83</td>\n",
       "      <td>0.83</td>\n",
       "      <td>0.85</td>\n",
       "      <td>0.04</td>\n",
       "    </tr>\n",
       "    <tr>\n",
       "      <th>ExtraTreesClassifier</th>\n",
       "      <td>0.84</td>\n",
       "      <td>0.83</td>\n",
       "      <td>0.83</td>\n",
       "      <td>0.84</td>\n",
       "      <td>0.52</td>\n",
       "    </tr>\n",
       "    <tr>\n",
       "      <th>LinearDiscriminantAnalysis</th>\n",
       "      <td>0.85</td>\n",
       "      <td>0.83</td>\n",
       "      <td>0.83</td>\n",
       "      <td>0.85</td>\n",
       "      <td>0.09</td>\n",
       "    </tr>\n",
       "    <tr>\n",
       "      <th>RidgeClassifier</th>\n",
       "      <td>0.85</td>\n",
       "      <td>0.83</td>\n",
       "      <td>0.83</td>\n",
       "      <td>0.85</td>\n",
       "      <td>0.03</td>\n",
       "    </tr>\n",
       "    <tr>\n",
       "      <th>XGBClassifier</th>\n",
       "      <td>0.85</td>\n",
       "      <td>0.83</td>\n",
       "      <td>0.83</td>\n",
       "      <td>0.84</td>\n",
       "      <td>0.39</td>\n",
       "    </tr>\n",
       "    <tr>\n",
       "      <th>RandomForestClassifier</th>\n",
       "      <td>0.84</td>\n",
       "      <td>0.83</td>\n",
       "      <td>0.83</td>\n",
       "      <td>0.84</td>\n",
       "      <td>0.58</td>\n",
       "    </tr>\n",
       "    <tr>\n",
       "      <th>SGDClassifier</th>\n",
       "      <td>0.84</td>\n",
       "      <td>0.83</td>\n",
       "      <td>0.83</td>\n",
       "      <td>0.84</td>\n",
       "      <td>0.07</td>\n",
       "    </tr>\n",
       "    <tr>\n",
       "      <th>NearestCentroid</th>\n",
       "      <td>0.83</td>\n",
       "      <td>0.82</td>\n",
       "      <td>0.82</td>\n",
       "      <td>0.83</td>\n",
       "      <td>0.05</td>\n",
       "    </tr>\n",
       "    <tr>\n",
       "      <th>BaggingClassifier</th>\n",
       "      <td>0.83</td>\n",
       "      <td>0.82</td>\n",
       "      <td>0.82</td>\n",
       "      <td>0.83</td>\n",
       "      <td>0.09</td>\n",
       "    </tr>\n",
       "    <tr>\n",
       "      <th>BernoulliNB</th>\n",
       "      <td>0.81</td>\n",
       "      <td>0.81</td>\n",
       "      <td>0.81</td>\n",
       "      <td>0.81</td>\n",
       "      <td>0.04</td>\n",
       "    </tr>\n",
       "    <tr>\n",
       "      <th>PassiveAggressiveClassifier</th>\n",
       "      <td>0.82</td>\n",
       "      <td>0.81</td>\n",
       "      <td>0.81</td>\n",
       "      <td>0.82</td>\n",
       "      <td>0.03</td>\n",
       "    </tr>\n",
       "    <tr>\n",
       "      <th>LabelSpreading</th>\n",
       "      <td>0.80</td>\n",
       "      <td>0.79</td>\n",
       "      <td>0.79</td>\n",
       "      <td>0.80</td>\n",
       "      <td>0.36</td>\n",
       "    </tr>\n",
       "    <tr>\n",
       "      <th>Perceptron</th>\n",
       "      <td>0.77</td>\n",
       "      <td>0.79</td>\n",
       "      <td>0.79</td>\n",
       "      <td>0.77</td>\n",
       "      <td>0.03</td>\n",
       "    </tr>\n",
       "    <tr>\n",
       "      <th>LabelPropagation</th>\n",
       "      <td>0.79</td>\n",
       "      <td>0.79</td>\n",
       "      <td>0.79</td>\n",
       "      <td>0.79</td>\n",
       "      <td>0.30</td>\n",
       "    </tr>\n",
       "    <tr>\n",
       "      <th>ExtraTreeClassifier</th>\n",
       "      <td>0.79</td>\n",
       "      <td>0.78</td>\n",
       "      <td>0.78</td>\n",
       "      <td>0.79</td>\n",
       "      <td>0.04</td>\n",
       "    </tr>\n",
       "    <tr>\n",
       "      <th>DecisionTreeClassifier</th>\n",
       "      <td>0.77</td>\n",
       "      <td>0.77</td>\n",
       "      <td>0.77</td>\n",
       "      <td>0.77</td>\n",
       "      <td>0.05</td>\n",
       "    </tr>\n",
       "    <tr>\n",
       "      <th>GaussianNB</th>\n",
       "      <td>0.80</td>\n",
       "      <td>0.77</td>\n",
       "      <td>0.77</td>\n",
       "      <td>0.79</td>\n",
       "      <td>0.02</td>\n",
       "    </tr>\n",
       "    <tr>\n",
       "      <th>QuadraticDiscriminantAnalysis</th>\n",
       "      <td>0.78</td>\n",
       "      <td>0.74</td>\n",
       "      <td>0.74</td>\n",
       "      <td>0.76</td>\n",
       "      <td>0.08</td>\n",
       "    </tr>\n",
       "    <tr>\n",
       "      <th>DummyClassifier</th>\n",
       "      <td>0.58</td>\n",
       "      <td>0.50</td>\n",
       "      <td>0.50</td>\n",
       "      <td>0.43</td>\n",
       "      <td>0.04</td>\n",
       "    </tr>\n",
       "  </tbody>\n",
       "</table>\n",
       "</div>\n",
       "      <button class=\"colab-df-convert\" onclick=\"convertToInteractive('df-f09cf2d6-e627-4404-a730-59a6cf5f4710')\"\n",
       "              title=\"Convert this dataframe to an interactive table.\"\n",
       "              style=\"display:none;\">\n",
       "        \n",
       "  <svg xmlns=\"http://www.w3.org/2000/svg\" height=\"24px\"viewBox=\"0 0 24 24\"\n",
       "       width=\"24px\">\n",
       "    <path d=\"M0 0h24v24H0V0z\" fill=\"none\"/>\n",
       "    <path d=\"M18.56 5.44l.94 2.06.94-2.06 2.06-.94-2.06-.94-.94-2.06-.94 2.06-2.06.94zm-11 1L8.5 8.5l.94-2.06 2.06-.94-2.06-.94L8.5 2.5l-.94 2.06-2.06.94zm10 10l.94 2.06.94-2.06 2.06-.94-2.06-.94-.94-2.06-.94 2.06-2.06.94z\"/><path d=\"M17.41 7.96l-1.37-1.37c-.4-.4-.92-.59-1.43-.59-.52 0-1.04.2-1.43.59L10.3 9.45l-7.72 7.72c-.78.78-.78 2.05 0 2.83L4 21.41c.39.39.9.59 1.41.59.51 0 1.02-.2 1.41-.59l7.78-7.78 2.81-2.81c.8-.78.8-2.07 0-2.86zM5.41 20L4 18.59l7.72-7.72 1.47 1.35L5.41 20z\"/>\n",
       "  </svg>\n",
       "      </button>\n",
       "      \n",
       "  <style>\n",
       "    .colab-df-container {\n",
       "      display:flex;\n",
       "      flex-wrap:wrap;\n",
       "      gap: 12px;\n",
       "    }\n",
       "\n",
       "    .colab-df-convert {\n",
       "      background-color: #E8F0FE;\n",
       "      border: none;\n",
       "      border-radius: 50%;\n",
       "      cursor: pointer;\n",
       "      display: none;\n",
       "      fill: #1967D2;\n",
       "      height: 32px;\n",
       "      padding: 0 0 0 0;\n",
       "      width: 32px;\n",
       "    }\n",
       "\n",
       "    .colab-df-convert:hover {\n",
       "      background-color: #E2EBFA;\n",
       "      box-shadow: 0px 1px 2px rgba(60, 64, 67, 0.3), 0px 1px 3px 1px rgba(60, 64, 67, 0.15);\n",
       "      fill: #174EA6;\n",
       "    }\n",
       "\n",
       "    [theme=dark] .colab-df-convert {\n",
       "      background-color: #3B4455;\n",
       "      fill: #D2E3FC;\n",
       "    }\n",
       "\n",
       "    [theme=dark] .colab-df-convert:hover {\n",
       "      background-color: #434B5C;\n",
       "      box-shadow: 0px 1px 3px 1px rgba(0, 0, 0, 0.15);\n",
       "      filter: drop-shadow(0px 1px 2px rgba(0, 0, 0, 0.3));\n",
       "      fill: #FFFFFF;\n",
       "    }\n",
       "  </style>\n",
       "\n",
       "      <script>\n",
       "        const buttonEl =\n",
       "          document.querySelector('#df-f09cf2d6-e627-4404-a730-59a6cf5f4710 button.colab-df-convert');\n",
       "        buttonEl.style.display =\n",
       "          google.colab.kernel.accessAllowed ? 'block' : 'none';\n",
       "\n",
       "        async function convertToInteractive(key) {\n",
       "          const element = document.querySelector('#df-f09cf2d6-e627-4404-a730-59a6cf5f4710');\n",
       "          const dataTable =\n",
       "            await google.colab.kernel.invokeFunction('convertToInteractive',\n",
       "                                                     [key], {});\n",
       "          if (!dataTable) return;\n",
       "\n",
       "          const docLinkHtml = 'Like what you see? Visit the ' +\n",
       "            '<a target=\"_blank\" href=https://colab.research.google.com/notebooks/data_table.ipynb>data table notebook</a>'\n",
       "            + ' to learn more about interactive tables.';\n",
       "          element.innerHTML = '';\n",
       "          dataTable['output_type'] = 'display_data';\n",
       "          await google.colab.output.renderOutput(dataTable, element);\n",
       "          const docLink = document.createElement('div');\n",
       "          docLink.innerHTML = docLinkHtml;\n",
       "          element.appendChild(docLink);\n",
       "        }\n",
       "      </script>\n",
       "    </div>\n",
       "  </div>\n",
       "  "
      ]
     },
     "metadata": {},
     "execution_count": 24
    }
   ]
  },
  {
   "cell_type": "markdown",
   "source": [
    "### Logistic Regression"
   ],
   "metadata": {
    "id": "UWmON0rK90nj",
    "pycharm": {
     "name": "#%% md\n"
    }
   }
  },
  {
   "cell_type": "code",
   "source": [
    "log_reg = LogisticRegression()\n",
    "log_reg.fit(X_train, y_train)\n",
    "\n",
    "y_pred = log_reg.predict(X_test) \n",
    "\n",
    "print('intercept ', log_reg.intercept_[0])\n",
    "print('classes', log_reg.classes_)\n",
    "print('----------------------')\n",
    "print(\"F1 score of the model\")\n",
    "print(f1_score(y_test,y_pred))\n",
    "print('----------------------')\n",
    "print(\"Accuracy of the model\")\n",
    "print(accuracy_score(y_test,y_pred))\n",
    "print('----------------------')\n",
    "print(\"Confusion Matrix\")\n",
    "print(confusion_matrix(y_test,y_pred))\n",
    "print('----------------------')\n",
    "print(\"Classification Report\")\n",
    "print(classification_report(y_test,y_pred))\n",
    "print('----------------------')\n",
    "print(\"auc/roc\")\n",
    "auc = metrics.roc_auc_score(y_test, y_pred)\n",
    "auc"
   ],
   "metadata": {
    "colab": {
     "base_uri": "https://localhost:8080/"
    },
    "id": "CrvleiZowujw",
    "executionInfo": {
     "status": "ok",
     "timestamp": 1673689405208,
     "user_tz": -120,
     "elapsed": 397,
     "user": {
      "displayName": "Lisanna Lehes",
      "userId": "09149713693688229558"
     }
    },
    "outputId": "d57be9c2-a6b6-4557-dc47-14abc2393c51",
    "pycharm": {
     "name": "#%%\n"
    }
   },
   "execution_count": 25,
   "outputs": [
    {
     "output_type": "stream",
     "name": "stdout",
     "text": [
      "intercept  -4.46169285990515\n",
      "classes [0 1]\n",
      "----------------------\n",
      "F1 score of the model\n",
      "0.8215962441314555\n",
      "----------------------\n",
      "Accuracy of the model\n",
      "0.8608058608058609\n",
      "----------------------\n",
      "Confusion Matrix\n",
      "[[295  23]\n",
      " [ 53 175]]\n",
      "----------------------\n",
      "Classification Report\n",
      "              precision    recall  f1-score   support\n",
      "\n",
      "           0       0.85      0.93      0.89       318\n",
      "           1       0.88      0.77      0.82       228\n",
      "\n",
      "    accuracy                           0.86       546\n",
      "   macro avg       0.87      0.85      0.85       546\n",
      "weighted avg       0.86      0.86      0.86       546\n",
      "\n",
      "----------------------\n",
      "auc/roc\n"
     ]
    },
    {
     "output_type": "execute_result",
     "data": {
      "text/plain": [
       "0.8476084078119829"
      ]
     },
     "metadata": {},
     "execution_count": 25
    }
   ]
  },
  {
   "cell_type": "code",
   "source": [
    "# find p-values for coefs\n",
    "freg=f_regression(X_train, y_train)\n",
    "p=freg[1]\n",
    "print(p.round(3))"
   ],
   "metadata": {
    "colab": {
     "base_uri": "https://localhost:8080/"
    },
    "id": "_yAlVXvcX9NU",
    "executionInfo": {
     "status": "ok",
     "timestamp": 1673691194180,
     "user_tz": -120,
     "elapsed": 270,
     "user": {
      "displayName": "Lisanna Lehes",
      "userId": "09149713693688229558"
     }
    },
    "outputId": "12000c16-9e04-4be8-fc6e-7d2f3d0b486d",
    "pycharm": {
     "name": "#%%\n"
    }
   },
   "execution_count": 33,
   "outputs": [
    {
     "output_type": "stream",
     "name": "stdout",
     "text": [
      "[0.    0.    0.    0.    0.001 0.017 0.    0.    0.    0.    0.    0.\n",
      " 0.    0.004]\n"
     ]
    }
   ]
  },
  {
   "cell_type": "code",
   "source": [
    "pd.set_option('display.float_format', '{:.4f}'.format)\n",
    "\n",
    "coef_df = pd.DataFrame({'coeff': log_reg.coef_[0],'exp(coeff)': np.exp(log_reg.coef_[0])}, index=X.columns) # ,'clickbait_prob_compared_to_group0':(1/np.exp(log_reg.coef_[0]))\n",
    "coef_df['p'] = freg[1]\n",
    "coef_df.reindex(coef_df.coeff.sort_values(ascending = False).index)"
   ],
   "metadata": {
    "colab": {
     "base_uri": "https://localhost:8080/",
     "height": 488
    },
    "id": "3W0LV8rJK3nI",
    "executionInfo": {
     "status": "ok",
     "timestamp": 1673691721179,
     "user_tz": -120,
     "elapsed": 273,
     "user": {
      "displayName": "Lisanna Lehes",
      "userId": "09149713693688229558"
     }
    },
    "outputId": "ddd4adb5-9e43-47d3-bab6-48350291518f",
    "pycharm": {
     "name": "#%%\n"
    }
   },
   "execution_count": 43,
   "outputs": [
    {
     "output_type": "execute_result",
     "data": {
      "text/plain": [
       "                                  coeff  exp(coeff)      p\n",
       "has_question_mark                3.6750     39.4475 0.0000\n",
       "has_exclamation_mark             2.6762     14.5304 0.0000\n",
       "no_words_with_only_capslock      0.8488      2.3369 0.0000\n",
       "no_verbs                         0.6439      1.9038 0.0000\n",
       "no_words                         0.5251      1.6906 0.0000\n",
       "has_adjective                    0.2717      1.3122 0.0000\n",
       "no_adjectives                    0.2490      1.2827 0.0000\n",
       "no_words_starting_with_capslock  0.1591      1.1724 0.0000\n",
       "contains_gtp_reccomended_word    0.0490      1.0503 0.0041\n",
       "no_characters                   -0.0293      0.9711 0.0000\n",
       "no_names                        -0.2135      0.8078 0.0171\n",
       "has_verb                        -0.3016      0.7396 0.0000\n",
       "has_name                        -0.4836      0.6166 0.0006\n",
       "has_numbers                     -0.9453      0.3886 0.0000"
      ],
      "text/html": [
       "\n",
       "  <div id=\"df-c80e88c0-1cb9-4138-b171-ead02e9b8e59\">\n",
       "    <div class=\"colab-df-container\">\n",
       "      <div>\n",
       "<style scoped>\n",
       "    .dataframe tbody tr th:only-of-type {\n",
       "        vertical-align: middle;\n",
       "    }\n",
       "\n",
       "    .dataframe tbody tr th {\n",
       "        vertical-align: top;\n",
       "    }\n",
       "\n",
       "    .dataframe thead th {\n",
       "        text-align: right;\n",
       "    }\n",
       "</style>\n",
       "<table border=\"1\" class=\"dataframe\">\n",
       "  <thead>\n",
       "    <tr style=\"text-align: right;\">\n",
       "      <th></th>\n",
       "      <th>coeff</th>\n",
       "      <th>exp(coeff)</th>\n",
       "      <th>p</th>\n",
       "    </tr>\n",
       "  </thead>\n",
       "  <tbody>\n",
       "    <tr>\n",
       "      <th>has_question_mark</th>\n",
       "      <td>3.6750</td>\n",
       "      <td>39.4475</td>\n",
       "      <td>0.0000</td>\n",
       "    </tr>\n",
       "    <tr>\n",
       "      <th>has_exclamation_mark</th>\n",
       "      <td>2.6762</td>\n",
       "      <td>14.5304</td>\n",
       "      <td>0.0000</td>\n",
       "    </tr>\n",
       "    <tr>\n",
       "      <th>no_words_with_only_capslock</th>\n",
       "      <td>0.8488</td>\n",
       "      <td>2.3369</td>\n",
       "      <td>0.0000</td>\n",
       "    </tr>\n",
       "    <tr>\n",
       "      <th>no_verbs</th>\n",
       "      <td>0.6439</td>\n",
       "      <td>1.9038</td>\n",
       "      <td>0.0000</td>\n",
       "    </tr>\n",
       "    <tr>\n",
       "      <th>no_words</th>\n",
       "      <td>0.5251</td>\n",
       "      <td>1.6906</td>\n",
       "      <td>0.0000</td>\n",
       "    </tr>\n",
       "    <tr>\n",
       "      <th>has_adjective</th>\n",
       "      <td>0.2717</td>\n",
       "      <td>1.3122</td>\n",
       "      <td>0.0000</td>\n",
       "    </tr>\n",
       "    <tr>\n",
       "      <th>no_adjectives</th>\n",
       "      <td>0.2490</td>\n",
       "      <td>1.2827</td>\n",
       "      <td>0.0000</td>\n",
       "    </tr>\n",
       "    <tr>\n",
       "      <th>no_words_starting_with_capslock</th>\n",
       "      <td>0.1591</td>\n",
       "      <td>1.1724</td>\n",
       "      <td>0.0000</td>\n",
       "    </tr>\n",
       "    <tr>\n",
       "      <th>contains_gtp_reccomended_word</th>\n",
       "      <td>0.0490</td>\n",
       "      <td>1.0503</td>\n",
       "      <td>0.0041</td>\n",
       "    </tr>\n",
       "    <tr>\n",
       "      <th>no_characters</th>\n",
       "      <td>-0.0293</td>\n",
       "      <td>0.9711</td>\n",
       "      <td>0.0000</td>\n",
       "    </tr>\n",
       "    <tr>\n",
       "      <th>no_names</th>\n",
       "      <td>-0.2135</td>\n",
       "      <td>0.8078</td>\n",
       "      <td>0.0171</td>\n",
       "    </tr>\n",
       "    <tr>\n",
       "      <th>has_verb</th>\n",
       "      <td>-0.3016</td>\n",
       "      <td>0.7396</td>\n",
       "      <td>0.0000</td>\n",
       "    </tr>\n",
       "    <tr>\n",
       "      <th>has_name</th>\n",
       "      <td>-0.4836</td>\n",
       "      <td>0.6166</td>\n",
       "      <td>0.0006</td>\n",
       "    </tr>\n",
       "    <tr>\n",
       "      <th>has_numbers</th>\n",
       "      <td>-0.9453</td>\n",
       "      <td>0.3886</td>\n",
       "      <td>0.0000</td>\n",
       "    </tr>\n",
       "  </tbody>\n",
       "</table>\n",
       "</div>\n",
       "      <button class=\"colab-df-convert\" onclick=\"convertToInteractive('df-c80e88c0-1cb9-4138-b171-ead02e9b8e59')\"\n",
       "              title=\"Convert this dataframe to an interactive table.\"\n",
       "              style=\"display:none;\">\n",
       "        \n",
       "  <svg xmlns=\"http://www.w3.org/2000/svg\" height=\"24px\"viewBox=\"0 0 24 24\"\n",
       "       width=\"24px\">\n",
       "    <path d=\"M0 0h24v24H0V0z\" fill=\"none\"/>\n",
       "    <path d=\"M18.56 5.44l.94 2.06.94-2.06 2.06-.94-2.06-.94-.94-2.06-.94 2.06-2.06.94zm-11 1L8.5 8.5l.94-2.06 2.06-.94-2.06-.94L8.5 2.5l-.94 2.06-2.06.94zm10 10l.94 2.06.94-2.06 2.06-.94-2.06-.94-.94-2.06-.94 2.06-2.06.94z\"/><path d=\"M17.41 7.96l-1.37-1.37c-.4-.4-.92-.59-1.43-.59-.52 0-1.04.2-1.43.59L10.3 9.45l-7.72 7.72c-.78.78-.78 2.05 0 2.83L4 21.41c.39.39.9.59 1.41.59.51 0 1.02-.2 1.41-.59l7.78-7.78 2.81-2.81c.8-.78.8-2.07 0-2.86zM5.41 20L4 18.59l7.72-7.72 1.47 1.35L5.41 20z\"/>\n",
       "  </svg>\n",
       "      </button>\n",
       "      \n",
       "  <style>\n",
       "    .colab-df-container {\n",
       "      display:flex;\n",
       "      flex-wrap:wrap;\n",
       "      gap: 12px;\n",
       "    }\n",
       "\n",
       "    .colab-df-convert {\n",
       "      background-color: #E8F0FE;\n",
       "      border: none;\n",
       "      border-radius: 50%;\n",
       "      cursor: pointer;\n",
       "      display: none;\n",
       "      fill: #1967D2;\n",
       "      height: 32px;\n",
       "      padding: 0 0 0 0;\n",
       "      width: 32px;\n",
       "    }\n",
       "\n",
       "    .colab-df-convert:hover {\n",
       "      background-color: #E2EBFA;\n",
       "      box-shadow: 0px 1px 2px rgba(60, 64, 67, 0.3), 0px 1px 3px 1px rgba(60, 64, 67, 0.15);\n",
       "      fill: #174EA6;\n",
       "    }\n",
       "\n",
       "    [theme=dark] .colab-df-convert {\n",
       "      background-color: #3B4455;\n",
       "      fill: #D2E3FC;\n",
       "    }\n",
       "\n",
       "    [theme=dark] .colab-df-convert:hover {\n",
       "      background-color: #434B5C;\n",
       "      box-shadow: 0px 1px 3px 1px rgba(0, 0, 0, 0.15);\n",
       "      filter: drop-shadow(0px 1px 2px rgba(0, 0, 0, 0.3));\n",
       "      fill: #FFFFFF;\n",
       "    }\n",
       "  </style>\n",
       "\n",
       "      <script>\n",
       "        const buttonEl =\n",
       "          document.querySelector('#df-c80e88c0-1cb9-4138-b171-ead02e9b8e59 button.colab-df-convert');\n",
       "        buttonEl.style.display =\n",
       "          google.colab.kernel.accessAllowed ? 'block' : 'none';\n",
       "\n",
       "        async function convertToInteractive(key) {\n",
       "          const element = document.querySelector('#df-c80e88c0-1cb9-4138-b171-ead02e9b8e59');\n",
       "          const dataTable =\n",
       "            await google.colab.kernel.invokeFunction('convertToInteractive',\n",
       "                                                     [key], {});\n",
       "          if (!dataTable) return;\n",
       "\n",
       "          const docLinkHtml = 'Like what you see? Visit the ' +\n",
       "            '<a target=\"_blank\" href=https://colab.research.google.com/notebooks/data_table.ipynb>data table notebook</a>'\n",
       "            + ' to learn more about interactive tables.';\n",
       "          element.innerHTML = '';\n",
       "          dataTable['output_type'] = 'display_data';\n",
       "          await google.colab.output.renderOutput(dataTable, element);\n",
       "          const docLink = document.createElement('div');\n",
       "          docLink.innerHTML = docLinkHtml;\n",
       "          element.appendChild(docLink);\n",
       "        }\n",
       "      </script>\n",
       "    </div>\n",
       "  </div>\n",
       "  "
      ]
     },
     "metadata": {},
     "execution_count": 43
    }
   ]
  },
  {
   "cell_type": "markdown",
   "source": [
    "Because of the logit function, logistic regression coefficients represent the log odds that an observation is in the target class (“1”) given the values of its variables. Thus, these log odd coefficients need to be converted to regular odds in order to make sense of them --> `np.exp() `"
   ],
   "metadata": {
    "id": "5qqV68wsOtlE",
    "pycharm": {
     "name": "#%% md\n"
    }
   }
  },
  {
   "cell_type": "code",
   "source": [
    "plt.figure(figsize=(10,8))\n",
    "plt.barh(X.columns,log_reg.coef_[0])\n",
    "plt.title(\"Coefficient values\")\n",
    "plt.show()"
   ],
   "metadata": {
    "colab": {
     "base_uri": "https://localhost:8080/",
     "height": 500
    },
    "id": "FWtj3xyB3AN6",
    "executionInfo": {
     "status": "ok",
     "timestamp": 1673689406512,
     "user_tz": -120,
     "elapsed": 1015,
     "user": {
      "displayName": "Lisanna Lehes",
      "userId": "09149713693688229558"
     }
    },
    "outputId": "8c099ee5-ede3-4db3-bfa1-f5f4f1e20a04",
    "pycharm": {
     "name": "#%%\n"
    }
   },
   "execution_count": 28,
   "outputs": [
    {
     "output_type": "display_data",
     "data": {
      "text/plain": [
       "<Figure size 720x576 with 1 Axes>"
      ],
      "image/png": "[encoded data removed]"
     },
     "metadata": {}
    }
   ]
  },
  {
   "cell_type": "markdown",
   "source": [
    "### Misclassified samples"
   ],
   "metadata": {
    "id": "bPj_oB-wGDXG",
    "pycharm": {
     "name": "#%% md\n"
    }
   }
  },
  {
   "cell_type": "code",
   "source": [
    "indices = [i for i in range(len(y_test)) if y_test[i] != y_pred[i]]\n",
    "X_test_val = X_test[:]\n",
    "X_test_val['actual'] = y_test\n",
    "X_test_val['pred'] = y_pred\n",
    "wrong_predictions = X_test_val.iloc[indices,:]"
   ],
   "metadata": {
    "id": "-O7tFyjyOjMm",
    "executionInfo": {
     "status": "ok",
     "timestamp": 1673699135080,
     "user_tz": -120,
     "elapsed": 251,
     "user": {
      "displayName": "Lisanna Lehes",
      "userId": "09149713693688229558"
     }
    },
    "pycharm": {
     "name": "#%%\n"
    }
   },
   "execution_count": 60,
   "outputs": []
  },
  {
   "cell_type": "code",
   "source": [
    "sentences = []\n",
    "\n",
    "for idx, row in wrong_predictions.iterrows():\n",
    "  idx = row.name\n",
    "  sentence = df[df.index == idx].sentence.item()\n",
    "  sentences.append(sentence)\n",
    "\n",
    "wrong_predictions['sentences'] = sentences"
   ],
   "metadata": {
    "id": "ixgajJvNP1wF",
    "executionInfo": {
     "status": "ok",
     "timestamp": 1673700010525,
     "user_tz": -120,
     "elapsed": 372,
     "user": {
      "displayName": "Lisanna Lehes",
      "userId": "09149713693688229558"
     }
    },
    "pycharm": {
     "name": "#%%\n"
    }
   },
   "execution_count": 112,
   "outputs": []
  },
  {
   "cell_type": "code",
   "source": [
    "fn = wrong_predictions[(wrong_predictions[\"actual\"] == 1) & (wrong_predictions[\"pred\"] == 0)]\n",
    "fp = wrong_predictions[(wrong_predictions[\"actual\"] == 0) & (wrong_predictions[\"pred\"] == 1)]\n",
    "\n",
    "print(len(fn))\n",
    "print(len(fp))"
   ],
   "metadata": {
    "colab": {
     "base_uri": "https://localhost:8080/"
    },
    "id": "b2qUOHw2ScKk",
    "executionInfo": {
     "status": "ok",
     "timestamp": 1673700397991,
     "user_tz": -120,
     "elapsed": 318,
     "user": {
      "displayName": "Lisanna Lehes",
      "userId": "09149713693688229558"
     }
    },
    "outputId": "30cddd57-40a3-4fc9-dcc9-6207eb8043e9",
    "pycharm": {
     "name": "#%%\n"
    }
   },
   "execution_count": 117,
   "outputs": [
    {
     "output_type": "stream",
     "name": "stdout",
     "text": [
      "53\n",
      "23\n"
     ]
    }
   ]
  },
  {
   "cell_type": "code",
   "source": [
    "fn['sentences']"
   ],
   "metadata": {
    "colab": {
     "base_uri": "https://localhost:8080/"
    },
    "id": "qCAZ02gbUWf4",
    "executionInfo": {
     "status": "ok",
     "timestamp": 1673700791228,
     "user_tz": -120,
     "elapsed": 280,
     "user": {
      "displayName": "Lisanna Lehes",
      "userId": "09149713693688229558"
     }
    },
    "outputId": "b8186494-df8a-436c-cb3b-b9095be518de",
    "pycharm": {
     "name": "#%%\n"
    }
   },
   "execution_count": 123,
   "outputs": [
    {
     "output_type": "execute_result",
     "data": {
      "text/plain": [
       "590                          Sisekujundaja ülestunnistus: see sisustusdetail ei ole oma kõrget hinda väärt\n",
       "458                                Uudo Sepp paljastas üllatava põhjuse, miks jäi katki muusiku haridustee\n",
       "117                                                   Tassitäis seda armastatud jooki aitab põletada rasva\n",
       "32                                                                         Selgus Riho Sibula surma põhjus\n",
       "450                                  Toidupoes lotovõidu puhul kõikide eest maksnud naine osutus hoopis...\n",
       "189                              Tiitlikaitsja Prantsusmaa peab MM-il hakkama saama ilma oma tähtmängijata\n",
       "19                     Riho Sibula tütar Iris paljastas, miks avalikkus tema olemasolust siiani ei teadnud\n",
       "618                                                             See lihtne sõna on õnneliku abielu saladus\n",
       "506                                               Video: naine tõmbas järvest välja kala, kellel oli .....\n",
       "574                                           Spekulatsioon: EKRE võimalik ministrikandidaat on Tea Varrak\n",
       "423                                                Just selles vanuses hakkavad naised oma emadeks muutuma\n",
       "233                                                       Harry ja Meghan valmistuvad suureks elumuutuseks\n",
       "521                                      Maailma parimate õllelinnade edetabelist leiab ka ühe Eesti linna\n",
       "612                                   PM Korsikal. Järveoja avaldas, mitu kurvi on päriselt Korsika rallil\n",
       "462                                            Sa ei kujuta ette, mis peidab end ühe Ääsmäe korteri köögis\n",
       "37                                               Meie üks populaarsemaid köögivilju hoiab vöökoha saledana\n",
       "623                                                 See hädavajalik harjumus aitab ennetada söögitoruvähki\n",
       "376                                          KLÕPS | Maarja-Liis Ilus avaldas jaanuaris sündinud poja nime\n",
       "226                             Teivashüppe maailmameister ootab surma: mul ei ole enam paranemisvõimalust\n",
       "591                                                               Taylor Swiftil on fännidele suur üllatus\n",
       "88                                                      Klikijanuline Tai juutuuber läks videoga üle piiri\n",
       "338    Piret Järvis-Milder avalikustas tegeliku põhjuse, miks Maarja Kivi bändi taasühinemisse ei kaasatud\n",
       "575                                                      Mihkel Raud | Ma olen tõupuhas klikisöötade ohver\n",
       "603                                              Rahutu beebi suurendab emal selle vaimse häire tekkeriski\n",
       "390                                   Kannapööre: tuntud Eesti muusik liitus kinnisvaramaaklerite ridadega\n",
       "503                                                        FOTO | President käis jalgrattaga riigivisiidil\n",
       "580                                                   Kaitseväe ühendatud õppeasutus saab uue, lühema nime\n",
       "221                                 Tuntud muusikaajakirjanik müüb idüllilist ja omanäolist kodu Kalamajas\n",
       "35                                          Televiisori vaatamine on seotud selle vähiliigi varase tekkega\n",
       "159                                       Suri legendaarse joogiimpeeriumi asutanud Austria multimiljardär\n",
       "290                    Christian Erikseni vaktsineerimise ja südamerikke vahelise seose osas saabus selgus\n",
       "486                                              Kõrged D-vitamiini doosid tekitavad üllatava terviseriski\n",
       "386                                               Alkovaras jäi valitud margile ühe erandiga lõpuni truuks\n",
       "105                                            Suhted kärgpere ja ekspartneri vahel saavad olla viit tüüpi\n",
       "100                                                             Hea uudis tõi börsidel kaasa pöörase tõusu\n",
       "608                             Igapäevane harjumus, mille pärast su telefoniaku välkkiirusel tühjaks saab\n",
       "253                                               Elina Born avaldab, miks on Eestis raske olla naismuusik\n",
       "505                                          Tänak andis Autospordile uue lepingu kohta väga selge vastuse\n",
       "487                                                    See riik on parim koht maailmas pensionile minekuks\n",
       "182                                       Kiskjauurija õpetab, kuidas karu peletamisel naabrimehest abi on\n",
       "549                                                        Pildid: vaata, kuidas Anne Veski esinema saabus\n",
       "197                                                          Kaja Kallas avaldas, kus asub Eesti talvegaas\n",
       "190                                  Teadlased selgitasid välja, milline toatemperatuur soodustab head und\n",
       "15                                                              See harjumus võib aidata ennetada maovähki\n",
       "71                            GERLI JA MARTIN PARMAS teatasid rabavast paljastusest oma värske abielu osas\n",
       "4                                                                         Lahkus armastatud inglise laulja\n",
       "294                                     Politsei avaldas karmi avarii teinud Tiger Woodsi õnnetuse põhjuse\n",
       "528                    Uuring: selgus Eesti parima teenindusega toidukaupluste kett ja selleks on üllataja\n",
       "152                                   Soomlaste seas on just seda tüüpi elamu populaarsus tublisti tõusnud\n",
       "504                                        Moelooja Roberta Einer ei saa abielluda, kuna \"on juba abielus\"\n",
       "94                                                            Miks iseliikuv auto ikkagi inimese abi vajab\n",
       "520                                                Habemikud on muutnud ühe ettevõtte tegevuse keeruliseks\n",
       "42                                                               Suri rockiajaloo ühe suurima bändi laulja\n",
       "Name: sentences, dtype: object"
      ]
     },
     "metadata": {},
     "execution_count": 123
    }
   ]
  },
  {
   "cell_type": "code",
   "source": [
    "fp['sentences']"
   ],
   "metadata": {
    "colab": {
     "base_uri": "https://localhost:8080/"
    },
    "id": "mD4imI3EVgiE",
    "executionInfo": {
     "status": "ok",
     "timestamp": 1673700807003,
     "user_tz": -120,
     "elapsed": 351,
     "user": {
      "displayName": "Lisanna Lehes",
      "userId": "09149713693688229558"
     }
    },
    "outputId": "132a55aa-e783-4970-a03d-cdc11c980167",
    "pycharm": {
     "name": "#%%\n"
    }
   },
   "execution_count": 125,
   "outputs": [
    {
     "output_type": "execute_result",
     "data": {
      "text/plain": [
       "1412                               Sõja 302. päev: Venemaale võib olla küüditatud sadu tuhandeid Ukraina lapsi\n",
       "752                                                     Vaata uuesti: \"Ühe maja lugu\" viib vaatajad Estoniasse\n",
       "1067                             Karilatsi muuseumi perepäevadel saab sõita saaniga ja mängida vanu jõulumänge\n",
       "747                             Janek Õiglane: ma ei osanud pärast EM-i mõelda, et võiksin isegi nominent olla\n",
       "891                                                                    R2 Aastahitt | 5miinust \"?mis sa tegid\"\n",
       "1154                                                              Karge jõuluilm asendub niiske ja sooja õhuga\n",
       "1221                           Anne Veski: kõige õudsem ongi see, et sa lähed koju ja seal ei ole mitte kedagi\n",
       "1257                                 Jefimova soovid uueks aastaks: saada terveks ja näidata paremaid tulemusi\n",
       "1186           Meditsiiniõde: diabeedi pärimise protsent on väike, aga raseduse ajal võivad tüsistused tekkida\n",
       "1054               Arvustus. \"Rail Baltic ehk kelmi­tants vanaisa sarvedega\": lõbusad pildikesed kurvast elust\n",
       "1276                             Vaata enne tele-eetrit: \"Ühe maja lugu\" viib vaatajad Tartu Pauluse kirikusse\n",
       "1613                                      VIDEO | Argentina koondise bussiparaad katkes pööraste fännide tõttu\n",
       "1571                           Piret Põldver: küsin oma raamatus, kuidas leida normaalsus, kus ei ole alkoholi\n",
       "1404                                    Bussiliinide mahud ei kasva, raha läheb siiski rohkem kui 2022. aastal\n",
       "757                                       Galerii: aasta võetakse ETV-s kokku lauldes saates \"Laula me aastat\"\n",
       "1035                         Lauamängude huviline: esimene reegel on see, et endal tuleks reeglid selgeks teha\n",
       "687                                Arvustus. \"Glass Onion\" – hea meelelahutus, mis kahjuks meelde eriti ei jää\n",
       "1210    Märt Pius: esimesed diabeedi-jõulud olid kurvad, sest 30 mandariini asemel sain süüa ainult kaks tükki\n",
       "1260                Otseülekanne lõppenud: \"Jõulutunneli\" õhtune saade on täis muusikat ja liigutavaid lugusid\n",
       "1291                      Vseviov: kurjus on nagu hallitus, kui natukene jääb sisse, siis see hakkab paljunema\n",
       "716                                 Vaata uuesti: \"Õnne 13\" aastavahetus viis Alma ja Laine Kadriorgu seiklema\n",
       "1178                                                  Nikolajev: ei pea olema väga osav, et luua midagi ajatut\n",
       "1134                        Ülar Ploom \"Jumaliku komöödia\" tõlkimisest: töö pakkus nii põrgut kui ka paradiisi\n",
       "Name: sentences, dtype: object"
      ]
     },
     "metadata": {},
     "execution_count": 125
    }
   ]
  }
 ]
}